{
 "cells": [
  {
   "cell_type": "code",
   "execution_count": 3,
   "id": "43370dc2-8a59-451b-ae9b-f8d23b811471",
   "metadata": {},
   "outputs": [
    {
     "name": "stderr",
     "output_type": "stream",
     "text": [
      "/opt/anaconda3/envs/deep-learning/lib/python3.11/site-packages/gym/spaces/box.py:127: UserWarning: \u001b[33mWARN: Box bound precision lowered by casting to float32\u001b[0m\n",
      "  logger.warn(f\"Box bound precision lowered by casting to {self.dtype}\")\n",
      "  0%|          | 0/1000 [00:00<?, ?it/s]/var/folders/qd/1pjv967d1ylfl4mzr8flbvb00000gn/T/ipykernel_80599/2611974595.py:456: UserWarning: Creating a tensor from a list of numpy.ndarrays is extremely slow. Please consider converting the list to a single numpy.ndarray with numpy.array() before converting to a tensor. (Triggered internally at /Users/runner/work/_temp/anaconda/conda-bld/pytorch_1720538194616/work/torch/csrc/utils/tensor_new.cpp:281.)\n",
      "  states = torch.FloatTensor(memory.states)\n",
      "  0%|          | 4/1000 [00:00<00:25, 39.66it/s]"
     ]
    },
    {
     "name": "stdout",
     "output_type": "stream",
     "text": [
      "Episode 1 | Steps: 2 | Reward: 28.07 | Avg Reward: 28.07\n",
      "Weights exported to cart_pole_weights_best.bin in C-compatible format\n",
      "New best reward: 28.07\n",
      "Episode 2 | Steps: 2 | Reward: 28.62 | Avg Reward: 28.35\n",
      "Weights exported to cart_pole_weights_best.bin in C-compatible format\n",
      "New best reward: 28.62\n",
      "Episode 3 | Steps: 2 | Reward: 28.38 | Avg Reward: 28.36\n",
      "Episode 4 | Steps: 2 | Reward: 25.30 | Avg Reward: 27.59\n",
      "Episode 5 | Steps: 4 | Reward: 59.24 | Avg Reward: 33.92\n",
      "Weights exported to cart_pole_weights_best.bin in C-compatible format\n",
      "New best reward: 59.24\n",
      "Episode 6 | Steps: 8 | Reward: 67.00 | Avg Reward: 39.43\n",
      "Weights exported to cart_pole_weights_best.bin in C-compatible format\n",
      "New best reward: 67.00\n",
      "Episode 7 | Steps: 14 | Reward: 136.69 | Avg Reward: 53.33\n",
      "Weights exported to cart_pole_weights_best.bin in C-compatible format\n",
      "New best reward: 136.69\n",
      "Episode 8 | Steps: 6 | Reward: 48.46 | Avg Reward: 52.72\n",
      "Episode 9 | Steps: 16 | Reward: 215.94 | Avg Reward: 70.86\n",
      "Weights exported to cart_pole_weights_best.bin in C-compatible format\n",
      "New best reward: 215.94\n",
      "Episode 10 | Steps: 2 | Reward: 29.06 | Avg Reward: 66.68\n"
     ]
    },
    {
     "name": "stderr",
     "output_type": "stream",
     "text": [
      "  2%|▏         | 17/1000 [00:00<00:17, 57.46it/s]"
     ]
    },
    {
     "name": "stdout",
     "output_type": "stream",
     "text": [
      "Episode 11 | Steps: 8 | Reward: 87.69 | Avg Reward: 68.59\n",
      "Episode 12 | Steps: 2 | Reward: 29.79 | Avg Reward: 65.35\n",
      "Episode 13 | Steps: 8 | Reward: 113.33 | Avg Reward: 69.04\n",
      "Episode 14 | Steps: 8 | Reward: 85.00 | Avg Reward: 70.18\n",
      "Episode 15 | Steps: 6 | Reward: 56.85 | Avg Reward: 69.29\n",
      "Episode 16 | Steps: 2 | Reward: 28.47 | Avg Reward: 66.74\n",
      "Episode 17 | Steps: 8 | Reward: 92.84 | Avg Reward: 68.28\n",
      "Episode 18 | Steps: 18 | Reward: 214.03 | Avg Reward: 76.37\n",
      "Episode 19 | Steps: 2 | Reward: 25.93 | Avg Reward: 73.72\n",
      "Episode 20 | Steps: 2 | Reward: 28.87 | Avg Reward: 71.48\n",
      "Episode 21 | Steps: 6 | Reward: 54.65 | Avg Reward: 70.68\n",
      "Episode 22 | Steps: 8 | Reward: 73.29 | Avg Reward: 70.79\n",
      "Episode 23 | Steps: 4 | Reward: 59.72 | Avg Reward: 70.31\n",
      "Episode 24 | Steps: 2 | Reward: 29.76 | Avg Reward: 68.62\n"
     ]
    },
    {
     "name": "stderr",
     "output_type": "stream",
     "text": [
      "  3%|▎         | 31/1000 [00:00<00:15, 63.60it/s]"
     ]
    },
    {
     "name": "stdout",
     "output_type": "stream",
     "text": [
      "Episode 25 | Steps: 2 | Reward: 29.09 | Avg Reward: 67.04\n",
      "Episode 26 | Steps: 6 | Reward: 86.39 | Avg Reward: 67.79\n",
      "Episode 27 | Steps: 2 | Reward: 27.02 | Avg Reward: 66.28\n",
      "Episode 28 | Steps: 4 | Reward: 45.35 | Avg Reward: 65.53\n",
      "Episode 29 | Steps: 2 | Reward: 29.17 | Avg Reward: 64.28\n",
      "Episode 30 | Steps: 4 | Reward: 44.59 | Avg Reward: 63.62\n",
      "Episode 31 | Steps: 12 | Reward: 139.59 | Avg Reward: 66.07\n",
      "Episode 32 | Steps: 10 | Reward: 71.03 | Avg Reward: 66.22\n",
      "Episode 33 | Steps: 6 | Reward: 55.34 | Avg Reward: 65.89\n",
      "Episode 34 | Steps: 2 | Reward: 27.40 | Avg Reward: 64.76\n",
      "Episode 35 | Steps: 4 | Reward: 46.17 | Avg Reward: 64.23\n",
      "Episode 36 | Steps: 2 | Reward: 26.62 | Avg Reward: 63.19\n",
      "Episode 37 | Steps: 2 | Reward: 27.99 | Avg Reward: 62.24\n",
      "Episode 38 | Steps: 4 | Reward: 57.36 | Avg Reward: 62.11\n"
     ]
    },
    {
     "name": "stderr",
     "output_type": "stream",
     "text": [
      "  4%|▍         | 45/1000 [00:00<00:14, 64.92it/s]"
     ]
    },
    {
     "name": "stdout",
     "output_type": "stream",
     "text": [
      "Episode 39 | Steps: 6 | Reward: 61.68 | Avg Reward: 62.10\n",
      "Episode 40 | Steps: 26 | Reward: 282.24 | Avg Reward: 67.60\n",
      "Weights exported to cart_pole_weights_best.bin in C-compatible format\n",
      "New best reward: 282.24\n",
      "Episode 41 | Steps: 6 | Reward: 80.20 | Avg Reward: 67.91\n",
      "Episode 42 | Steps: 2 | Reward: 29.50 | Avg Reward: 66.99\n",
      "Episode 43 | Steps: 4 | Reward: 40.06 | Avg Reward: 66.37\n",
      "Episode 44 | Steps: 2 | Reward: 28.94 | Avg Reward: 65.52\n",
      "Episode 45 | Steps: 4 | Reward: 52.48 | Avg Reward: 65.23\n",
      "Episode 46 | Steps: 6 | Reward: 86.31 | Avg Reward: 65.68\n",
      "Episode 47 | Steps: 2 | Reward: 29.05 | Avg Reward: 64.90\n",
      "Episode 48 | Steps: 10 | Reward: 69.41 | Avg Reward: 65.00\n",
      "Episode 49 | Steps: 10 | Reward: 73.11 | Avg Reward: 65.16\n",
      "Episode 50 | Steps: 2 | Reward: 28.90 | Avg Reward: 64.44\n",
      "Weights exported to cart_pole_weights_50.bin in C-compatible format\n",
      "Episode 51 | Steps: 10 | Reward: 91.23 | Avg Reward: 64.96\n"
     ]
    },
    {
     "name": "stderr",
     "output_type": "stream",
     "text": [
      "  6%|▌         | 59/1000 [00:00<00:14, 64.65it/s]"
     ]
    },
    {
     "name": "stdout",
     "output_type": "stream",
     "text": [
      "Episode 52 | Steps: 6 | Reward: 76.04 | Avg Reward: 65.18\n",
      "Episode 53 | Steps: 4 | Reward: 59.05 | Avg Reward: 65.06\n",
      "Episode 54 | Steps: 2 | Reward: 29.85 | Avg Reward: 64.41\n",
      "Episode 55 | Steps: 18 | Reward: 117.82 | Avg Reward: 65.38\n",
      "Episode 56 | Steps: 4 | Reward: 43.10 | Avg Reward: 64.98\n",
      "Episode 57 | Steps: 6 | Reward: 50.82 | Avg Reward: 64.73\n",
      "Episode 58 | Steps: 8 | Reward: 64.95 | Avg Reward: 64.74\n",
      "Episode 59 | Steps: 8 | Reward: 57.53 | Avg Reward: 64.62\n",
      "Episode 60 | Steps: 4 | Reward: 57.48 | Avg Reward: 64.50\n",
      "Episode 61 | Steps: 6 | Reward: 87.38 | Avg Reward: 64.87\n",
      "Episode 62 | Steps: 2 | Reward: 26.06 | Avg Reward: 64.25\n",
      "Episode 63 | Steps: 26 | Reward: 277.19 | Avg Reward: 67.63\n",
      "Episode 64 | Steps: 6 | Reward: 86.64 | Avg Reward: 67.92\n"
     ]
    },
    {
     "name": "stderr",
     "output_type": "stream",
     "text": [
      "  7%|▋         | 73/1000 [00:01<00:16, 57.51it/s]"
     ]
    },
    {
     "name": "stdout",
     "output_type": "stream",
     "text": [
      "Episode 65 | Steps: 4 | Reward: 43.01 | Avg Reward: 67.54\n",
      "Episode 66 | Steps: 22 | Reward: 296.43 | Avg Reward: 71.01\n",
      "Weights exported to cart_pole_weights_best.bin in C-compatible format\n",
      "New best reward: 296.43\n",
      "Episode 67 | Steps: 14 | Reward: 153.00 | Avg Reward: 72.23\n",
      "Episode 68 | Steps: 31 | Reward: 367.40 | Avg Reward: 76.57\n",
      "Weights exported to cart_pole_weights_best.bin in C-compatible format\n",
      "New best reward: 367.40\n",
      "Episode 69 | Steps: 6 | Reward: 80.23 | Avg Reward: 76.63\n",
      "Episode 70 | Steps: 2 | Reward: 29.75 | Avg Reward: 75.96\n",
      "Episode 71 | Steps: 4 | Reward: 44.66 | Avg Reward: 75.52\n",
      "Episode 72 | Steps: 6 | Reward: 87.78 | Avg Reward: 75.69\n",
      "Episode 73 | Steps: 4 | Reward: 58.59 | Avg Reward: 75.45\n",
      "Episode 74 | Steps: 4 | Reward: 45.09 | Avg Reward: 75.04\n",
      "Episode 75 | Steps: 8 | Reward: 90.29 | Avg Reward: 75.24\n"
     ]
    },
    {
     "name": "stderr",
     "output_type": "stream",
     "text": [
      "  9%|▊         | 87/1000 [00:01<00:15, 60.05it/s]"
     ]
    },
    {
     "name": "stdout",
     "output_type": "stream",
     "text": [
      "Episode 76 | Steps: 2 | Reward: 29.43 | Avg Reward: 74.64\n",
      "Episode 77 | Steps: 4 | Reward: 40.22 | Avg Reward: 74.19\n",
      "Episode 78 | Steps: 6 | Reward: 57.67 | Avg Reward: 73.98\n",
      "Episode 79 | Steps: 2 | Reward: 29.63 | Avg Reward: 73.42\n",
      "Episode 80 | Steps: 25 | Reward: 211.28 | Avg Reward: 75.14\n",
      "Episode 81 | Steps: 16 | Reward: 189.81 | Avg Reward: 76.56\n",
      "Episode 82 | Steps: 16 | Reward: 128.16 | Avg Reward: 77.19\n",
      "Episode 83 | Steps: 4 | Reward: 56.65 | Avg Reward: 76.94\n",
      "Episode 84 | Steps: 8 | Reward: 58.95 | Avg Reward: 76.73\n",
      "Episode 85 | Steps: 8 | Reward: 73.55 | Avg Reward: 76.69\n",
      "Episode 86 | Steps: 6 | Reward: 49.53 | Avg Reward: 76.37\n",
      "Episode 87 | Steps: 15 | Reward: 170.77 | Avg Reward: 77.46\n",
      "Episode 88 | Steps: 22 | Reward: 267.53 | Avg Reward: 79.62\n"
     ]
    },
    {
     "name": "stderr",
     "output_type": "stream",
     "text": [
      "  9%|▉         | 94/1000 [00:01<00:14, 61.49it/s]"
     ]
    },
    {
     "name": "stdout",
     "output_type": "stream",
     "text": [
      "Episode 89 | Steps: 6 | Reward: 78.75 | Avg Reward: 79.61\n",
      "Episode 90 | Steps: 6 | Reward: 88.81 | Avg Reward: 79.71\n",
      "Episode 91 | Steps: 10 | Reward: 140.77 | Avg Reward: 80.38\n",
      "Episode 92 | Steps: 8 | Reward: 116.99 | Avg Reward: 80.78\n",
      "Episode 93 | Steps: 2 | Reward: 29.71 | Avg Reward: 80.23\n",
      "Episode 94 | Steps: 2 | Reward: 29.07 | Avg Reward: 79.69\n",
      "Episode 95 | Steps: 34 | Reward: 323.93 | Avg Reward: 82.26\n",
      "Episode 96 | Steps: 12 | Reward: 118.06 | Avg Reward: 82.63\n",
      "Episode 97 | Steps: 29 | Reward: 313.13 | Avg Reward: 85.01\n",
      "Episode 98 | Steps: 24 | Reward: 277.88 | Avg Reward: 86.98\n"
     ]
    },
    {
     "name": "stderr",
     "output_type": "stream",
     "text": [
      " 11%|█         | 107/1000 [00:01<00:17, 51.70it/s]"
     ]
    },
    {
     "name": "stdout",
     "output_type": "stream",
     "text": [
      "Episode 99 | Steps: 31 | Reward: 270.34 | Avg Reward: 88.83\n",
      "Episode 100 | Steps: 6 | Reward: 73.85 | Avg Reward: 88.68\n",
      "Weights exported to cart_pole_weights_100.bin in C-compatible format\n",
      "Episode 101 | Steps: 12 | Reward: 124.16 | Avg Reward: 89.64\n",
      "Episode 102 | Steps: 14 | Reward: 195.59 | Avg Reward: 91.31\n",
      "Episode 103 | Steps: 2 | Reward: 29.13 | Avg Reward: 91.32\n",
      "Episode 104 | Steps: 18 | Reward: 241.16 | Avg Reward: 93.47\n",
      "Episode 105 | Steps: 6 | Reward: 63.36 | Avg Reward: 93.52\n",
      "Episode 106 | Steps: 8 | Reward: 87.15 | Avg Reward: 93.72\n",
      "Episode 107 | Steps: 34 | Reward: 428.88 | Avg Reward: 96.64\n",
      "Weights exported to cart_pole_weights_best.bin in C-compatible format\n",
      "New best reward: 428.88\n",
      "Episode 108 | Steps: 34 | Reward: 379.48 | Avg Reward: 99.95\n",
      "Episode 109 | Steps: 2 | Reward: 26.63 | Avg Reward: 98.06\n"
     ]
    },
    {
     "name": "stderr",
     "output_type": "stream",
     "text": [
      " 12%|█▏        | 119/1000 [00:02<00:16, 52.50it/s]"
     ]
    },
    {
     "name": "stdout",
     "output_type": "stream",
     "text": [
      "Episode 110 | Steps: 18 | Reward: 203.17 | Avg Reward: 99.80\n",
      "Episode 111 | Steps: 25 | Reward: 223.23 | Avg Reward: 101.15\n",
      "Episode 112 | Steps: 12 | Reward: 105.90 | Avg Reward: 101.91\n",
      "Episode 113 | Steps: 12 | Reward: 134.61 | Avg Reward: 102.13\n",
      "Episode 114 | Steps: 14 | Reward: 113.74 | Avg Reward: 102.41\n",
      "Episode 115 | Steps: 32 | Reward: 305.09 | Avg Reward: 104.90\n",
      "Episode 116 | Steps: 2 | Reward: 29.02 | Avg Reward: 104.90\n",
      "Episode 117 | Steps: 12 | Reward: 134.35 | Avg Reward: 105.32\n",
      "Episode 118 | Steps: 14 | Reward: 143.82 | Avg Reward: 104.61\n",
      "Episode 119 | Steps: 6 | Reward: 61.41 | Avg Reward: 104.97\n",
      "Episode 120 | Steps: 24 | Reward: 224.53 | Avg Reward: 106.93\n"
     ]
    },
    {
     "name": "stderr",
     "output_type": "stream",
     "text": [
      " 12%|█▎        | 125/1000 [00:02<00:17, 49.72it/s]"
     ]
    },
    {
     "name": "stdout",
     "output_type": "stream",
     "text": [
      "Episode 121 | Steps: 10 | Reward: 110.70 | Avg Reward: 107.49\n",
      "Episode 122 | Steps: 22 | Reward: 245.01 | Avg Reward: 109.20\n",
      "Episode 123 | Steps: 42 | Reward: 555.33 | Avg Reward: 114.16\n",
      "Weights exported to cart_pole_weights_best.bin in C-compatible format\n",
      "New best reward: 555.33\n",
      "Episode 124 | Steps: 16 | Reward: 186.98 | Avg Reward: 115.73\n",
      "Episode 125 | Steps: 26 | Reward: 294.36 | Avg Reward: 118.38\n",
      "Episode 126 | Steps: 28 | Reward: 371.75 | Avg Reward: 121.24\n",
      "Episode 127 | Steps: 8 | Reward: 116.51 | Avg Reward: 122.13\n",
      "Episode 128 | Steps: 16 | Reward: 188.88 | Avg Reward: 123.57\n",
      "Episode 129 | Steps: 22 | Reward: 275.82 | Avg Reward: 126.04\n",
      "Episode 130 | Steps: 2 | Reward: 29.05 | Avg Reward: 125.88\n",
      "Episode 131 | Steps: 10 | Reward: 118.84 | Avg Reward: 125.67\n"
     ]
    },
    {
     "name": "stderr",
     "output_type": "stream",
     "text": [
      " 14%|█▍        | 138/1000 [00:02<00:15, 54.24it/s]"
     ]
    },
    {
     "name": "stdout",
     "output_type": "stream",
     "text": [
      "Episode 132 | Steps: 6 | Reward: 83.45 | Avg Reward: 125.80\n",
      "Episode 133 | Steps: 20 | Reward: 287.04 | Avg Reward: 128.11\n",
      "Episode 134 | Steps: 8 | Reward: 114.01 | Avg Reward: 128.98\n",
      "Episode 135 | Steps: 10 | Reward: 130.22 | Avg Reward: 129.82\n",
      "Episode 136 | Steps: 6 | Reward: 82.66 | Avg Reward: 130.38\n",
      "Episode 137 | Steps: 2 | Reward: 28.39 | Avg Reward: 130.38\n",
      "Episode 138 | Steps: 42 | Reward: 534.27 | Avg Reward: 135.15\n",
      "Episode 139 | Steps: 40 | Reward: 536.65 | Avg Reward: 139.90\n",
      "Episode 140 | Steps: 6 | Reward: 81.45 | Avg Reward: 137.90\n",
      "Episode 141 | Steps: 4 | Reward: 42.44 | Avg Reward: 137.52\n",
      "Episode 142 | Steps: 8 | Reward: 117.19 | Avg Reward: 138.39\n",
      "Episode 143 | Steps: 58 | Reward: 789.84 | Avg Reward: 145.89\n",
      "Weights exported to cart_pole_weights_best.bin in C-compatible format\n",
      "New best reward: 789.84\n"
     ]
    },
    {
     "name": "stderr",
     "output_type": "stream",
     "text": [
      " 15%|█▌        | 150/1000 [00:02<00:16, 53.04it/s]"
     ]
    },
    {
     "name": "stdout",
     "output_type": "stream",
     "text": [
      "Episode 144 | Steps: 16 | Reward: 216.01 | Avg Reward: 147.76\n",
      "Episode 145 | Steps: 10 | Reward: 145.31 | Avg Reward: 148.69\n",
      "Episode 146 | Steps: 20 | Reward: 252.68 | Avg Reward: 150.36\n",
      "Episode 147 | Steps: 10 | Reward: 144.97 | Avg Reward: 151.51\n",
      "Episode 148 | Steps: 14 | Reward: 159.48 | Avg Reward: 152.41\n",
      "Episode 149 | Steps: 10 | Reward: 142.65 | Avg Reward: 153.11\n",
      "Episode 150 | Steps: 28 | Reward: 395.52 | Avg Reward: 156.78\n",
      "Weights exported to cart_pole_weights_150.bin in C-compatible format\n",
      "Episode 151 | Steps: 6 | Reward: 87.57 | Avg Reward: 156.74\n",
      "Episode 152 | Steps: 2 | Reward: 28.94 | Avg Reward: 156.27\n",
      "Episode 153 | Steps: 34 | Reward: 458.65 | Avg Reward: 160.26\n",
      "Episode 154 | Steps: 8 | Reward: 79.31 | Avg Reward: 160.76\n",
      "Episode 155 | Steps: 2 | Reward: 27.30 | Avg Reward: 159.85\n"
     ]
    },
    {
     "name": "stderr",
     "output_type": "stream",
     "text": [
      " 16%|█▋        | 163/1000 [00:02<00:14, 56.50it/s]"
     ]
    },
    {
     "name": "stdout",
     "output_type": "stream",
     "text": [
      "Episode 156 | Steps: 4 | Reward: 59.44 | Avg Reward: 160.02\n",
      "Episode 157 | Steps: 6 | Reward: 87.55 | Avg Reward: 160.38\n",
      "Episode 158 | Steps: 2 | Reward: 28.78 | Avg Reward: 160.02\n",
      "Episode 159 | Steps: 6 | Reward: 88.13 | Avg Reward: 160.33\n",
      "Episode 160 | Steps: 10 | Reward: 121.40 | Avg Reward: 160.97\n",
      "Episode 161 | Steps: 24 | Reward: 303.96 | Avg Reward: 163.13\n",
      "Episode 162 | Steps: 20 | Reward: 249.42 | Avg Reward: 165.37\n",
      "Episode 163 | Steps: 8 | Reward: 98.93 | Avg Reward: 163.59\n",
      "Episode 164 | Steps: 36 | Reward: 418.47 | Avg Reward: 166.90\n",
      "Episode 165 | Steps: 18 | Reward: 255.45 | Avg Reward: 169.03\n",
      "Episode 166 | Steps: 14 | Reward: 192.74 | Avg Reward: 167.99\n",
      "Episode 167 | Steps: 10 | Reward: 118.34 | Avg Reward: 167.64\n"
     ]
    },
    {
     "name": "stderr",
     "output_type": "stream",
     "text": [
      " 18%|█▊        | 175/1000 [00:03<00:15, 52.40it/s]"
     ]
    },
    {
     "name": "stdout",
     "output_type": "stream",
     "text": [
      "Episode 168 | Steps: 26 | Reward: 323.46 | Avg Reward: 167.20\n",
      "Episode 169 | Steps: 6 | Reward: 84.39 | Avg Reward: 167.25\n",
      "Episode 170 | Steps: 16 | Reward: 214.51 | Avg Reward: 169.09\n",
      "Episode 171 | Steps: 13 | Reward: 113.99 | Avg Reward: 169.79\n",
      "Episode 172 | Steps: 10 | Reward: 118.91 | Avg Reward: 170.10\n",
      "Episode 173 | Steps: 18 | Reward: 220.39 | Avg Reward: 171.72\n",
      "Episode 174 | Steps: 18 | Reward: 213.15 | Avg Reward: 173.40\n",
      "Episode 175 | Steps: 52 | Reward: 675.79 | Avg Reward: 179.25\n",
      "Episode 176 | Steps: 2 | Reward: 25.85 | Avg Reward: 179.22\n",
      "Episode 177 | Steps: 20 | Reward: 270.43 | Avg Reward: 181.52\n"
     ]
    },
    {
     "name": "stderr",
     "output_type": "stream",
     "text": [
      " 19%|█▊        | 187/1000 [00:03<00:15, 52.47it/s]"
     ]
    },
    {
     "name": "stdout",
     "output_type": "stream",
     "text": [
      "Episode 178 | Steps: 32 | Reward: 437.95 | Avg Reward: 185.32\n",
      "Episode 179 | Steps: 22 | Reward: 257.10 | Avg Reward: 187.60\n",
      "Episode 180 | Steps: 28 | Reward: 354.70 | Avg Reward: 189.03\n",
      "Episode 181 | Steps: 4 | Reward: 54.18 | Avg Reward: 187.67\n",
      "Episode 182 | Steps: 6 | Reward: 87.07 | Avg Reward: 187.26\n",
      "Episode 183 | Steps: 20 | Reward: 208.91 | Avg Reward: 188.79\n",
      "Episode 184 | Steps: 12 | Reward: 174.72 | Avg Reward: 189.94\n",
      "Episode 185 | Steps: 12 | Reward: 141.73 | Avg Reward: 190.63\n",
      "Episode 186 | Steps: 10 | Reward: 127.66 | Avg Reward: 191.41\n",
      "Episode 187 | Steps: 8 | Reward: 77.99 | Avg Reward: 190.48\n",
      "Episode 188 | Steps: 2 | Reward: 29.42 | Avg Reward: 188.10\n"
     ]
    },
    {
     "name": "stderr",
     "output_type": "stream",
     "text": [
      " 20%|█▉        | 199/1000 [00:03<00:14, 53.82it/s]"
     ]
    },
    {
     "name": "stdout",
     "output_type": "stream",
     "text": [
      "Episode 189 | Steps: 34 | Reward: 393.27 | Avg Reward: 191.24\n",
      "Episode 190 | Steps: 2 | Reward: 28.47 | Avg Reward: 190.64\n",
      "Episode 191 | Steps: 26 | Reward: 319.53 | Avg Reward: 192.43\n",
      "Episode 192 | Steps: 10 | Reward: 133.23 | Avg Reward: 192.59\n",
      "Episode 193 | Steps: 24 | Reward: 324.32 | Avg Reward: 195.54\n",
      "Episode 194 | Steps: 4 | Reward: 57.46 | Avg Reward: 195.82\n",
      "Episode 195 | Steps: 8 | Reward: 118.28 | Avg Reward: 193.76\n",
      "Episode 196 | Steps: 4 | Reward: 42.30 | Avg Reward: 193.01\n",
      "Episode 197 | Steps: 12 | Reward: 169.97 | Avg Reward: 191.57\n",
      "Episode 198 | Steps: 54 | Reward: 667.86 | Avg Reward: 195.47\n",
      "Episode 199 | Steps: 4 | Reward: 57.80 | Avg Reward: 193.35\n"
     ]
    },
    {
     "name": "stderr",
     "output_type": "stream",
     "text": [
      " 20%|██        | 205/1000 [00:03<00:14, 53.64it/s]"
     ]
    },
    {
     "name": "stdout",
     "output_type": "stream",
     "text": [
      "Episode 200 | Steps: 20 | Reward: 239.52 | Avg Reward: 195.00\n",
      "Weights exported to cart_pole_weights_200.bin in C-compatible format\n",
      "Episode 201 | Steps: 18 | Reward: 245.94 | Avg Reward: 196.22\n",
      "Episode 202 | Steps: 30 | Reward: 413.19 | Avg Reward: 198.40\n",
      "Episode 203 | Steps: 4 | Reward: 55.61 | Avg Reward: 198.66\n",
      "Episode 204 | Steps: 12 | Reward: 146.59 | Avg Reward: 197.72\n",
      "Episode 205 | Steps: 6 | Reward: 84.91 | Avg Reward: 197.93\n",
      "Episode 206 | Steps: 27 | Reward: 333.10 | Avg Reward: 200.39\n",
      "Episode 207 | Steps: 32 | Reward: 275.64 | Avg Reward: 198.86\n",
      "Episode 208 | Steps: 2 | Reward: 29.33 | Avg Reward: 195.36\n",
      "Episode 209 | Steps: 26 | Reward: 343.38 | Avg Reward: 198.53\n",
      "Episode 210 | Steps: 14 | Reward: 199.67 | Avg Reward: 198.49\n"
     ]
    },
    {
     "name": "stderr",
     "output_type": "stream",
     "text": [
      " 22%|██▏       | 217/1000 [00:03<00:14, 53.50it/s]"
     ]
    },
    {
     "name": "stdout",
     "output_type": "stream",
     "text": [
      "Episode 211 | Steps: 10 | Reward: 136.17 | Avg Reward: 197.62\n",
      "Episode 212 | Steps: 18 | Reward: 250.91 | Avg Reward: 199.07\n",
      "Episode 213 | Steps: 40 | Reward: 433.32 | Avg Reward: 202.06\n",
      "Episode 214 | Steps: 4 | Reward: 45.32 | Avg Reward: 201.37\n",
      "Episode 215 | Steps: 4 | Reward: 60.01 | Avg Reward: 198.92\n",
      "Episode 216 | Steps: 14 | Reward: 184.42 | Avg Reward: 200.48\n",
      "Episode 217 | Steps: 14 | Reward: 130.92 | Avg Reward: 200.44\n",
      "Episode 218 | Steps: 14 | Reward: 145.65 | Avg Reward: 200.46\n",
      "Episode 219 | Steps: 6 | Reward: 85.51 | Avg Reward: 200.70\n",
      "Episode 220 | Steps: 22 | Reward: 286.28 | Avg Reward: 201.32\n",
      "Episode 221 | Steps: 22 | Reward: 239.92 | Avg Reward: 202.61\n"
     ]
    },
    {
     "name": "stderr",
     "output_type": "stream",
     "text": [
      " 23%|██▎       | 229/1000 [00:04<00:14, 53.75it/s]"
     ]
    },
    {
     "name": "stdout",
     "output_type": "stream",
     "text": [
      "Episode 222 | Steps: 10 | Reward: 147.10 | Avg Reward: 201.63\n",
      "Episode 223 | Steps: 38 | Reward: 469.58 | Avg Reward: 200.78\n",
      "Episode 224 | Steps: 6 | Reward: 61.65 | Avg Reward: 199.52\n",
      "Episode 225 | Steps: 8 | Reward: 102.70 | Avg Reward: 197.61\n",
      "Episode 226 | Steps: 52 | Reward: 605.54 | Avg Reward: 199.94\n",
      "Episode 227 | Steps: 10 | Reward: 127.99 | Avg Reward: 200.06\n",
      "Episode 228 | Steps: 12 | Reward: 172.50 | Avg Reward: 199.89\n",
      "Episode 229 | Steps: 10 | Reward: 133.06 | Avg Reward: 198.47\n",
      "Episode 230 | Steps: 4 | Reward: 44.11 | Avg Reward: 198.62\n",
      "Episode 231 | Steps: 54 | Reward: 708.33 | Avg Reward: 204.51\n",
      "Episode 232 | Steps: 27 | Reward: 189.58 | Avg Reward: 205.57\n"
     ]
    },
    {
     "name": "stderr",
     "output_type": "stream",
     "text": [
      " 24%|██▍       | 241/1000 [00:04<00:15, 48.88it/s]"
     ]
    },
    {
     "name": "stdout",
     "output_type": "stream",
     "text": [
      "Episode 233 | Steps: 30 | Reward: 253.03 | Avg Reward: 205.23\n",
      "Episode 234 | Steps: 6 | Reward: 75.12 | Avg Reward: 204.84\n",
      "Episode 235 | Steps: 6 | Reward: 88.46 | Avg Reward: 204.43\n",
      "Episode 236 | Steps: 2 | Reward: 29.79 | Avg Reward: 203.90\n",
      "Episode 237 | Steps: 2 | Reward: 29.11 | Avg Reward: 203.91\n",
      "Episode 238 | Steps: 18 | Reward: 246.95 | Avg Reward: 201.03\n",
      "Episode 239 | Steps: 2 | Reward: 29.40 | Avg Reward: 195.96\n",
      "Episode 240 | Steps: 27 | Reward: 305.48 | Avg Reward: 198.20\n",
      "Episode 241 | Steps: 2 | Reward: 29.52 | Avg Reward: 198.07\n",
      "Episode 242 | Steps: 18 | Reward: 215.81 | Avg Reward: 199.06\n"
     ]
    },
    {
     "name": "stderr",
     "output_type": "stream",
     "text": [
      " 25%|██▌       | 251/1000 [00:04<00:15, 47.83it/s]"
     ]
    },
    {
     "name": "stdout",
     "output_type": "stream",
     "text": [
      "Episode 243 | Steps: 10 | Reward: 107.62 | Avg Reward: 192.23\n",
      "Episode 244 | Steps: 14 | Reward: 192.76 | Avg Reward: 192.00\n",
      "Episode 245 | Steps: 30 | Reward: 431.08 | Avg Reward: 194.86\n",
      "Episode 246 | Steps: 4 | Reward: 59.38 | Avg Reward: 192.93\n",
      "Episode 247 | Steps: 14 | Reward: 195.61 | Avg Reward: 193.43\n",
      "Episode 248 | Steps: 14 | Reward: 181.85 | Avg Reward: 193.66\n",
      "Episode 249 | Steps: 16 | Reward: 220.10 | Avg Reward: 194.43\n",
      "Episode 250 | Steps: 14 | Reward: 196.27 | Avg Reward: 192.44\n",
      "Weights exported to cart_pole_weights_250.bin in C-compatible format\n",
      "Episode 251 | Steps: 40 | Reward: 513.02 | Avg Reward: 196.69\n",
      "Episode 252 | Steps: 10 | Reward: 130.37 | Avg Reward: 197.71\n"
     ]
    },
    {
     "name": "stderr",
     "output_type": "stream",
     "text": [
      " 26%|██▋       | 263/1000 [00:04<00:14, 51.94it/s]"
     ]
    },
    {
     "name": "stdout",
     "output_type": "stream",
     "text": [
      "Episode 253 | Steps: 22 | Reward: 280.61 | Avg Reward: 195.93\n",
      "Episode 254 | Steps: 20 | Reward: 256.76 | Avg Reward: 197.70\n",
      "Episode 255 | Steps: 16 | Reward: 216.26 | Avg Reward: 199.59\n",
      "Episode 256 | Steps: 2 | Reward: 28.17 | Avg Reward: 199.28\n",
      "Episode 257 | Steps: 18 | Reward: 193.39 | Avg Reward: 200.34\n",
      "Episode 258 | Steps: 2 | Reward: 28.03 | Avg Reward: 200.33\n",
      "Episode 259 | Steps: 34 | Reward: 386.20 | Avg Reward: 203.31\n",
      "Episode 260 | Steps: 6 | Reward: 78.36 | Avg Reward: 202.88\n",
      "Episode 261 | Steps: 6 | Reward: 89.18 | Avg Reward: 200.73\n",
      "Episode 262 | Steps: 32 | Reward: 406.52 | Avg Reward: 202.30\n",
      "Episode 263 | Steps: 8 | Reward: 111.87 | Avg Reward: 202.43\n",
      "Episode 264 | Steps: 29 | Reward: 353.23 | Avg Reward: 201.78\n"
     ]
    },
    {
     "name": "stderr",
     "output_type": "stream",
     "text": [
      " 28%|██▊       | 275/1000 [00:05<00:13, 54.34it/s]"
     ]
    },
    {
     "name": "stdout",
     "output_type": "stream",
     "text": [
      "Episode 265 | Steps: 14 | Reward: 177.72 | Avg Reward: 201.00\n",
      "Episode 266 | Steps: 4 | Reward: 45.97 | Avg Reward: 199.54\n",
      "Episode 267 | Steps: 8 | Reward: 102.77 | Avg Reward: 199.38\n",
      "Episode 268 | Steps: 8 | Reward: 99.36 | Avg Reward: 197.14\n",
      "Episode 269 | Steps: 32 | Reward: 410.72 | Avg Reward: 200.40\n",
      "Episode 270 | Steps: 2 | Reward: 29.33 | Avg Reward: 198.55\n",
      "Episode 271 | Steps: 8 | Reward: 97.19 | Avg Reward: 198.38\n",
      "Episode 272 | Steps: 54 | Reward: 361.25 | Avg Reward: 200.81\n",
      "Episode 273 | Steps: 16 | Reward: 136.00 | Avg Reward: 199.96\n",
      "Episode 274 | Steps: 8 | Reward: 117.04 | Avg Reward: 199.00\n",
      "Episode 275 | Steps: 14 | Reward: 113.67 | Avg Reward: 193.38\n",
      "Episode 276 | Steps: 12 | Reward: 156.96 | Avg Reward: 194.69\n"
     ]
    },
    {
     "name": "stderr",
     "output_type": "stream",
     "text": [
      " 28%|██▊       | 281/1000 [00:05<00:13, 52.10it/s]"
     ]
    },
    {
     "name": "stdout",
     "output_type": "stream",
     "text": [
      "Episode 277 | Steps: 31 | Reward: 334.73 | Avg Reward: 195.33\n",
      "Episode 278 | Steps: 4 | Reward: 58.78 | Avg Reward: 191.54\n",
      "Episode 279 | Steps: 8 | Reward: 110.51 | Avg Reward: 190.08\n",
      "Episode 280 | Steps: 12 | Reward: 172.13 | Avg Reward: 188.25\n",
      "Episode 281 | Steps: 30 | Reward: 394.52 | Avg Reward: 191.65\n",
      "Episode 282 | Steps: 4 | Reward: 50.95 | Avg Reward: 191.29\n",
      "Episode 283 | Steps: 4 | Reward: 59.17 | Avg Reward: 189.80\n",
      "Episode 284 | Steps: 6 | Reward: 86.17 | Avg Reward: 188.91\n",
      "Episode 285 | Steps: 2 | Reward: 29.09 | Avg Reward: 187.78\n",
      "Episode 286 | Steps: 4 | Reward: 58.32 | Avg Reward: 187.09\n",
      "Episode 287 | Steps: 32 | Reward: 429.85 | Avg Reward: 190.61\n"
     ]
    },
    {
     "name": "stderr",
     "output_type": "stream",
     "text": [
      " 29%|██▉       | 293/1000 [00:05<00:13, 52.41it/s]"
     ]
    },
    {
     "name": "stdout",
     "output_type": "stream",
     "text": [
      "Episode 288 | Steps: 37 | Reward: 434.21 | Avg Reward: 194.66\n",
      "Episode 289 | Steps: 28 | Reward: 342.51 | Avg Reward: 194.15\n",
      "Episode 290 | Steps: 22 | Reward: 307.85 | Avg Reward: 196.94\n",
      "Episode 291 | Steps: 2 | Reward: 29.92 | Avg Reward: 194.05\n",
      "Episode 292 | Steps: 2 | Reward: 25.16 | Avg Reward: 192.97\n",
      "Episode 293 | Steps: 8 | Reward: 95.56 | Avg Reward: 190.68\n",
      "Episode 294 | Steps: 20 | Reward: 292.60 | Avg Reward: 193.03\n",
      "Episode 295 | Steps: 34 | Reward: 352.44 | Avg Reward: 195.37\n",
      "Episode 296 | Steps: 2 | Reward: 25.96 | Avg Reward: 195.21\n",
      "Episode 297 | Steps: 2 | Reward: 28.31 | Avg Reward: 193.79\n",
      "Episode 298 | Steps: 14 | Reward: 183.32 | Avg Reward: 188.95\n"
     ]
    },
    {
     "name": "stderr",
     "output_type": "stream",
     "text": [
      " 31%|███       | 306/1000 [00:05<00:12, 55.53it/s]"
     ]
    },
    {
     "name": "stdout",
     "output_type": "stream",
     "text": [
      "Episode 299 | Steps: 26 | Reward: 357.85 | Avg Reward: 191.95\n",
      "Episode 300 | Steps: 8 | Reward: 99.43 | Avg Reward: 190.55\n",
      "Weights exported to cart_pole_weights_300.bin in C-compatible format\n",
      "Episode 301 | Steps: 4 | Reward: 55.79 | Avg Reward: 188.64\n",
      "Episode 302 | Steps: 14 | Reward: 194.82 | Avg Reward: 186.46\n",
      "Episode 303 | Steps: 14 | Reward: 179.51 | Avg Reward: 187.70\n",
      "Episode 304 | Steps: 12 | Reward: 167.98 | Avg Reward: 187.91\n",
      "Episode 305 | Steps: 2 | Reward: 28.68 | Avg Reward: 187.35\n",
      "Episode 306 | Steps: 6 | Reward: 88.92 | Avg Reward: 184.91\n",
      "Episode 307 | Steps: 43 | Reward: 472.82 | Avg Reward: 186.88\n",
      "Episode 308 | Steps: 22 | Reward: 204.77 | Avg Reward: 188.64\n",
      "Episode 309 | Steps: 28 | Reward: 371.54 | Avg Reward: 188.92\n",
      "Episode 310 | Steps: 12 | Reward: 161.82 | Avg Reward: 188.54\n"
     ]
    },
    {
     "name": "stderr",
     "output_type": "stream",
     "text": [
      " 32%|███▏      | 318/1000 [00:05<00:12, 53.75it/s]"
     ]
    },
    {
     "name": "stdout",
     "output_type": "stream",
     "text": [
      "Episode 311 | Steps: 4 | Reward: 46.12 | Avg Reward: 187.64\n",
      "Episode 312 | Steps: 2 | Reward: 28.97 | Avg Reward: 185.42\n",
      "Episode 313 | Steps: 34 | Reward: 412.92 | Avg Reward: 185.21\n",
      "Episode 314 | Steps: 30 | Reward: 415.56 | Avg Reward: 188.92\n",
      "Episode 315 | Steps: 6 | Reward: 54.21 | Avg Reward: 188.86\n",
      "Episode 316 | Steps: 26 | Reward: 355.19 | Avg Reward: 190.57\n",
      "Episode 317 | Steps: 30 | Reward: 327.46 | Avg Reward: 192.53\n",
      "Episode 318 | Steps: 14 | Reward: 194.26 | Avg Reward: 193.02\n",
      "Episode 319 | Steps: 52 | Reward: 573.04 | Avg Reward: 197.89\n",
      "Episode 320 | Steps: 2 | Reward: 26.03 | Avg Reward: 195.29\n",
      "Episode 321 | Steps: 6 | Reward: 56.18 | Avg Reward: 193.45\n"
     ]
    },
    {
     "name": "stderr",
     "output_type": "stream",
     "text": [
      " 33%|███▎      | 331/1000 [00:06<00:11, 57.44it/s]"
     ]
    },
    {
     "name": "stdout",
     "output_type": "stream",
     "text": [
      "Episode 322 | Steps: 4 | Reward: 57.42 | Avg Reward: 192.56\n",
      "Episode 323 | Steps: 4 | Reward: 45.18 | Avg Reward: 188.31\n",
      "Episode 324 | Steps: 16 | Reward: 185.59 | Avg Reward: 189.55\n",
      "Episode 325 | Steps: 4 | Reward: 59.09 | Avg Reward: 189.12\n",
      "Episode 326 | Steps: 8 | Reward: 110.16 | Avg Reward: 184.16\n",
      "Episode 327 | Steps: 8 | Reward: 116.51 | Avg Reward: 184.05\n",
      "Episode 328 | Steps: 6 | Reward: 86.29 | Avg Reward: 183.19\n",
      "Episode 329 | Steps: 12 | Reward: 147.84 | Avg Reward: 183.33\n",
      "Episode 330 | Steps: 14 | Reward: 183.34 | Avg Reward: 184.73\n",
      "Episode 331 | Steps: 18 | Reward: 234.32 | Avg Reward: 179.99\n",
      "Episode 332 | Steps: 2 | Reward: 28.80 | Avg Reward: 178.38\n",
      "Episode 333 | Steps: 2 | Reward: 29.98 | Avg Reward: 176.15\n",
      "Episode 334 | Steps: 6 | Reward: 60.70 | Avg Reward: 176.00\n",
      "Episode 335 | Steps: 2 | Reward: 26.97 | Avg Reward: 175.39\n"
     ]
    },
    {
     "name": "stderr",
     "output_type": "stream",
     "text": [
      " 34%|███▍      | 345/1000 [00:06<00:11, 59.05it/s]"
     ]
    },
    {
     "name": "stdout",
     "output_type": "stream",
     "text": [
      "Episode 336 | Steps: 18 | Reward: 206.80 | Avg Reward: 177.16\n",
      "Episode 337 | Steps: 6 | Reward: 85.44 | Avg Reward: 177.72\n",
      "Episode 338 | Steps: 2 | Reward: 28.34 | Avg Reward: 175.54\n",
      "Episode 339 | Steps: 4 | Reward: 52.52 | Avg Reward: 175.77\n",
      "Episode 340 | Steps: 12 | Reward: 172.50 | Avg Reward: 174.44\n",
      "Episode 341 | Steps: 2 | Reward: 28.36 | Avg Reward: 174.43\n",
      "Episode 342 | Steps: 6 | Reward: 89.05 | Avg Reward: 173.16\n",
      "Episode 343 | Steps: 4 | Reward: 50.63 | Avg Reward: 172.59\n",
      "Episode 344 | Steps: 54 | Reward: 718.77 | Avg Reward: 177.85\n",
      "Episode 345 | Steps: 20 | Reward: 202.12 | Avg Reward: 175.56\n",
      "Episode 346 | Steps: 30 | Reward: 416.37 | Avg Reward: 179.13\n",
      "Episode 347 | Steps: 10 | Reward: 144.12 | Avg Reward: 178.61\n"
     ]
    },
    {
     "name": "stderr",
     "output_type": "stream",
     "text": [
      " 35%|███▌      | 351/1000 [00:06<00:11, 56.32it/s]"
     ]
    },
    {
     "name": "stdout",
     "output_type": "stream",
     "text": [
      "Episode 348 | Steps: 26 | Reward: 336.53 | Avg Reward: 180.16\n",
      "Episode 349 | Steps: 30 | Reward: 389.93 | Avg Reward: 181.86\n",
      "Episode 350 | Steps: 6 | Reward: 86.50 | Avg Reward: 180.76\n",
      "Weights exported to cart_pole_weights_350.bin in C-compatible format\n",
      "Episode 351 | Steps: 4 | Reward: 58.14 | Avg Reward: 176.21\n",
      "Episode 352 | Steps: 8 | Reward: 115.72 | Avg Reward: 176.07\n",
      "Episode 353 | Steps: 24 | Reward: 310.85 | Avg Reward: 176.37\n",
      "Episode 354 | Steps: 18 | Reward: 201.36 | Avg Reward: 175.81\n",
      "Episode 355 | Steps: 2 | Reward: 28.78 | Avg Reward: 173.94\n",
      "Episode 356 | Steps: 72 | Reward: 939.17 | Avg Reward: 183.05\n",
      "Weights exported to cart_pole_weights_best.bin in C-compatible format\n",
      "New best reward: 939.17\n",
      "Episode 357 | Steps: 50 | Reward: 684.42 | Avg Reward: 187.96\n"
     ]
    },
    {
     "name": "stderr",
     "output_type": "stream",
     "text": [
      " 36%|███▋      | 363/1000 [00:06<00:11, 54.08it/s]"
     ]
    },
    {
     "name": "stdout",
     "output_type": "stream",
     "text": [
      "Episode 358 | Steps: 2 | Reward: 28.67 | Avg Reward: 187.97\n",
      "Episode 359 | Steps: 6 | Reward: 84.20 | Avg Reward: 184.95\n",
      "Episode 360 | Steps: 4 | Reward: 56.75 | Avg Reward: 184.73\n",
      "Episode 361 | Steps: 2 | Reward: 28.95 | Avg Reward: 184.13\n",
      "Episode 362 | Steps: 54 | Reward: 752.90 | Avg Reward: 187.59\n",
      "Episode 363 | Steps: 18 | Reward: 249.35 | Avg Reward: 188.97\n",
      "Episode 364 | Steps: 8 | Reward: 119.02 | Avg Reward: 186.62\n",
      "Episode 365 | Steps: 6 | Reward: 87.50 | Avg Reward: 185.72\n",
      "Episode 366 | Steps: 48 | Reward: 702.25 | Avg Reward: 192.28\n",
      "Episode 367 | Steps: 4 | Reward: 53.33 | Avg Reward: 191.79\n",
      "Episode 368 | Steps: 6 | Reward: 88.18 | Avg Reward: 191.68\n",
      "Episode 369 | Steps: 60 | Reward: 747.52 | Avg Reward: 195.05\n"
     ]
    },
    {
     "name": "stderr",
     "output_type": "stream",
     "text": [
      " 38%|███▊      | 376/1000 [00:06<00:10, 56.87it/s]"
     ]
    },
    {
     "name": "stdout",
     "output_type": "stream",
     "text": [
      "Episode 370 | Steps: 10 | Reward: 146.91 | Avg Reward: 196.22\n",
      "Episode 371 | Steps: 10 | Reward: 143.20 | Avg Reward: 196.68\n",
      "Episode 372 | Steps: 6 | Reward: 85.68 | Avg Reward: 193.93\n",
      "Episode 373 | Steps: 2 | Reward: 29.35 | Avg Reward: 192.86\n",
      "Episode 374 | Steps: 8 | Reward: 82.48 | Avg Reward: 192.51\n",
      "Episode 375 | Steps: 8 | Reward: 103.75 | Avg Reward: 192.41\n",
      "Episode 376 | Steps: 4 | Reward: 58.53 | Avg Reward: 191.43\n",
      "Episode 377 | Steps: 22 | Reward: 318.65 | Avg Reward: 191.27\n",
      "Episode 378 | Steps: 2 | Reward: 28.87 | Avg Reward: 190.97\n",
      "Episode 379 | Steps: 8 | Reward: 113.76 | Avg Reward: 191.00\n",
      "Episode 380 | Steps: 4 | Reward: 59.72 | Avg Reward: 189.88\n",
      "Episode 381 | Steps: 10 | Reward: 147.27 | Avg Reward: 187.41\n",
      "Episode 382 | Steps: 26 | Reward: 353.17 | Avg Reward: 190.43\n"
     ]
    },
    {
     "name": "stderr",
     "output_type": "stream",
     "text": [
      " 39%|███▉      | 389/1000 [00:07<00:10, 59.54it/s]"
     ]
    },
    {
     "name": "stdout",
     "output_type": "stream",
     "text": [
      "Episode 383 | Steps: 2 | Reward: 26.19 | Avg Reward: 190.10\n",
      "Episode 384 | Steps: 12 | Reward: 144.36 | Avg Reward: 190.68\n",
      "Episode 385 | Steps: 6 | Reward: 56.72 | Avg Reward: 190.96\n",
      "Episode 386 | Steps: 4 | Reward: 50.01 | Avg Reward: 190.87\n",
      "Episode 387 | Steps: 14 | Reward: 151.68 | Avg Reward: 188.09\n",
      "Episode 388 | Steps: 6 | Reward: 84.94 | Avg Reward: 184.60\n",
      "Episode 389 | Steps: 2 | Reward: 29.38 | Avg Reward: 181.47\n",
      "Episode 390 | Steps: 10 | Reward: 149.15 | Avg Reward: 179.88\n",
      "Episode 391 | Steps: 8 | Reward: 109.39 | Avg Reward: 180.68\n",
      "Episode 392 | Steps: 4 | Reward: 59.33 | Avg Reward: 181.02\n",
      "Episode 393 | Steps: 4 | Reward: 57.83 | Avg Reward: 180.64\n"
     ]
    },
    {
     "name": "stderr",
     "output_type": "stream",
     "text": [
      " 40%|████      | 401/1000 [00:07<00:11, 53.42it/s]"
     ]
    },
    {
     "name": "stdout",
     "output_type": "stream",
     "text": [
      "Episode 394 | Steps: 8 | Reward: 108.94 | Avg Reward: 178.80\n",
      "Episode 395 | Steps: 28 | Reward: 336.72 | Avg Reward: 178.65\n",
      "Episode 396 | Steps: 10 | Reward: 123.07 | Avg Reward: 179.62\n",
      "Episode 397 | Steps: 2 | Reward: 27.82 | Avg Reward: 179.61\n",
      "Episode 398 | Steps: 12 | Reward: 135.36 | Avg Reward: 179.13\n",
      "Episode 399 | Steps: 4 | Reward: 49.50 | Avg Reward: 176.05\n",
      "Episode 400 | Steps: 32 | Reward: 296.11 | Avg Reward: 178.02\n",
      "Weights exported to cart_pole_weights_400.bin in C-compatible format\n",
      "Episode 401 | Steps: 14 | Reward: 154.06 | Avg Reward: 179.00\n",
      "Episode 402 | Steps: 38 | Reward: 376.51 | Avg Reward: 180.82\n",
      "Episode 403 | Steps: 4 | Reward: 55.67 | Avg Reward: 179.58\n",
      "Episode 404 | Steps: 2 | Reward: 28.62 | Avg Reward: 178.18\n"
     ]
    },
    {
     "name": "stderr",
     "output_type": "stream",
     "text": [
      " 41%|████▏     | 413/1000 [00:07<00:11, 53.19it/s]"
     ]
    },
    {
     "name": "stdout",
     "output_type": "stream",
     "text": [
      "Episode 405 | Steps: 42 | Reward: 364.85 | Avg Reward: 181.55\n",
      "Episode 406 | Steps: 8 | Reward: 87.20 | Avg Reward: 181.53\n",
      "Episode 407 | Steps: 14 | Reward: 156.09 | Avg Reward: 178.36\n",
      "Episode 408 | Steps: 34 | Reward: 342.19 | Avg Reward: 179.74\n",
      "Episode 409 | Steps: 36 | Reward: 415.09 | Avg Reward: 180.17\n",
      "Episode 410 | Steps: 6 | Reward: 52.61 | Avg Reward: 179.08\n",
      "Episode 411 | Steps: 16 | Reward: 192.13 | Avg Reward: 180.54\n",
      "Episode 412 | Steps: 8 | Reward: 94.02 | Avg Reward: 181.19\n",
      "Episode 413 | Steps: 20 | Reward: 207.85 | Avg Reward: 179.14\n",
      "Episode 414 | Steps: 2 | Reward: 29.34 | Avg Reward: 175.28\n",
      "Episode 415 | Steps: 6 | Reward: 86.06 | Avg Reward: 175.60\n",
      "Episode 416 | Steps: 8 | Reward: 115.99 | Avg Reward: 173.20\n"
     ]
    },
    {
     "name": "stderr",
     "output_type": "stream",
     "text": [
      " 43%|████▎     | 426/1000 [00:07<00:10, 56.61it/s]"
     ]
    },
    {
     "name": "stdout",
     "output_type": "stream",
     "text": [
      "Episode 417 | Steps: 2 | Reward: 29.81 | Avg Reward: 170.23\n",
      "Episode 418 | Steps: 28 | Reward: 285.04 | Avg Reward: 171.13\n",
      "Episode 419 | Steps: 6 | Reward: 77.07 | Avg Reward: 166.17\n",
      "Episode 420 | Steps: 16 | Reward: 205.18 | Avg Reward: 167.97\n",
      "Episode 421 | Steps: 12 | Reward: 155.43 | Avg Reward: 168.96\n",
      "Episode 422 | Steps: 4 | Reward: 58.39 | Avg Reward: 168.97\n",
      "Episode 423 | Steps: 12 | Reward: 145.08 | Avg Reward: 169.97\n",
      "Episode 424 | Steps: 32 | Reward: 421.81 | Avg Reward: 172.33\n",
      "Episode 425 | Steps: 2 | Reward: 27.05 | Avg Reward: 172.01\n",
      "Episode 426 | Steps: 2 | Reward: 26.40 | Avg Reward: 171.17\n",
      "Episode 427 | Steps: 14 | Reward: 189.62 | Avg Reward: 171.90\n"
     ]
    },
    {
     "name": "stderr",
     "output_type": "stream",
     "text": [
      " 44%|████▍     | 439/1000 [00:08<00:09, 56.11it/s]"
     ]
    },
    {
     "name": "stdout",
     "output_type": "stream",
     "text": [
      "Episode 428 | Steps: 26 | Reward: 303.09 | Avg Reward: 174.07\n",
      "Episode 429 | Steps: 12 | Reward: 164.81 | Avg Reward: 174.24\n",
      "Episode 430 | Steps: 24 | Reward: 338.75 | Avg Reward: 175.79\n",
      "Episode 431 | Steps: 2 | Reward: 28.11 | Avg Reward: 173.73\n",
      "Episode 432 | Steps: 10 | Reward: 144.73 | Avg Reward: 174.89\n",
      "Episode 433 | Steps: 2 | Reward: 28.72 | Avg Reward: 174.88\n",
      "Episode 434 | Steps: 6 | Reward: 82.66 | Avg Reward: 175.10\n",
      "Episode 435 | Steps: 8 | Reward: 104.98 | Avg Reward: 175.88\n",
      "Episode 436 | Steps: 4 | Reward: 56.21 | Avg Reward: 174.37\n",
      "Episode 437 | Steps: 24 | Reward: 287.37 | Avg Reward: 176.39\n",
      "Episode 438 | Steps: 12 | Reward: 151.46 | Avg Reward: 177.62\n",
      "Episode 439 | Steps: 14 | Reward: 199.28 | Avg Reward: 179.09\n"
     ]
    },
    {
     "name": "stderr",
     "output_type": "stream",
     "text": [
      " 44%|████▍     | 445/1000 [00:08<00:10, 55.37it/s]"
     ]
    },
    {
     "name": "stdout",
     "output_type": "stream",
     "text": [
      "Episode 440 | Steps: 2 | Reward: 28.82 | Avg Reward: 177.65\n",
      "Episode 441 | Steps: 14 | Reward: 175.14 | Avg Reward: 179.12\n",
      "Episode 442 | Steps: 17 | Reward: 178.66 | Avg Reward: 180.02\n",
      "Episode 443 | Steps: 27 | Reward: 308.20 | Avg Reward: 182.59\n",
      "Episode 444 | Steps: 24 | Reward: 330.03 | Avg Reward: 178.71\n",
      "Episode 445 | Steps: 4 | Reward: 51.42 | Avg Reward: 177.20\n",
      "Episode 446 | Steps: 62 | Reward: 645.59 | Avg Reward: 179.49\n",
      "Episode 447 | Steps: 8 | Reward: 99.67 | Avg Reward: 179.05\n",
      "Episode 448 | Steps: 8 | Reward: 65.98 | Avg Reward: 176.34\n",
      "Episode 449 | Steps: 2 | Reward: 29.07 | Avg Reward: 172.73\n",
      "Episode 450 | Steps: 6 | Reward: 49.47 | Avg Reward: 172.36\n"
     ]
    },
    {
     "name": "stderr",
     "output_type": "stream",
     "text": [
      " 46%|████▌     | 458/1000 [00:08<00:09, 57.48it/s]"
     ]
    },
    {
     "name": "stdout",
     "output_type": "stream",
     "text": [
      "Weights exported to cart_pole_weights_450.bin in C-compatible format\n",
      "Episode 451 | Steps: 11 | Reward: 108.13 | Avg Reward: 172.86\n",
      "Episode 452 | Steps: 18 | Reward: 126.13 | Avg Reward: 172.97\n",
      "Episode 453 | Steps: 2 | Reward: 26.53 | Avg Reward: 170.12\n",
      "Episode 454 | Steps: 24 | Reward: 206.58 | Avg Reward: 170.18\n",
      "Episode 455 | Steps: 4 | Reward: 40.17 | Avg Reward: 170.29\n",
      "Episode 456 | Steps: 31 | Reward: 264.44 | Avg Reward: 163.54\n",
      "Episode 457 | Steps: 2 | Reward: 28.89 | Avg Reward: 156.99\n",
      "Episode 458 | Steps: 2 | Reward: 27.17 | Avg Reward: 156.97\n",
      "Episode 459 | Steps: 20 | Reward: 157.86 | Avg Reward: 157.71\n",
      "Episode 460 | Steps: 4 | Reward: 46.42 | Avg Reward: 157.60\n",
      "Episode 461 | Steps: 10 | Reward: 70.76 | Avg Reward: 158.02\n",
      "Episode 462 | Steps: 2 | Reward: 29.44 | Avg Reward: 150.79\n",
      "Episode 463 | Steps: 12 | Reward: 125.34 | Avg Reward: 149.55\n"
     ]
    },
    {
     "name": "stderr",
     "output_type": "stream",
     "text": [
      " 47%|████▋     | 471/1000 [00:08<00:09, 58.43it/s]"
     ]
    },
    {
     "name": "stdout",
     "output_type": "stream",
     "text": [
      "Episode 464 | Steps: 12 | Reward: 94.66 | Avg Reward: 149.30\n",
      "Episode 465 | Steps: 11 | Reward: 100.00 | Avg Reward: 149.43\n",
      "Episode 466 | Steps: 8 | Reward: 75.46 | Avg Reward: 143.16\n",
      "Episode 467 | Steps: 20 | Reward: 141.91 | Avg Reward: 144.05\n",
      "Episode 468 | Steps: 4 | Reward: 42.04 | Avg Reward: 143.59\n",
      "Episode 469 | Steps: 21 | Reward: 225.56 | Avg Reward: 138.37\n",
      "Episode 470 | Steps: 4 | Reward: 58.15 | Avg Reward: 137.48\n",
      "Episode 471 | Steps: 21 | Reward: 206.64 | Avg Reward: 138.11\n",
      "Episode 472 | Steps: 6 | Reward: 56.73 | Avg Reward: 137.82\n",
      "Episode 473 | Steps: 15 | Reward: 154.46 | Avg Reward: 139.08\n",
      "Episode 474 | Steps: 6 | Reward: 57.77 | Avg Reward: 138.83\n",
      "Episode 475 | Steps: 8 | Reward: 65.26 | Avg Reward: 138.44\n",
      "Episode 476 | Steps: 2 | Reward: 29.25 | Avg Reward: 138.15\n"
     ]
    },
    {
     "name": "stderr",
     "output_type": "stream",
     "text": [
      " 48%|████▊     | 485/1000 [00:08<00:08, 60.83it/s]"
     ]
    },
    {
     "name": "stdout",
     "output_type": "stream",
     "text": [
      "Episode 477 | Steps: 10 | Reward: 75.91 | Avg Reward: 135.72\n",
      "Episode 478 | Steps: 20 | Reward: 160.62 | Avg Reward: 137.04\n",
      "Episode 479 | Steps: 8 | Reward: 66.79 | Avg Reward: 136.57\n",
      "Episode 480 | Steps: 16 | Reward: 113.41 | Avg Reward: 137.11\n",
      "Episode 481 | Steps: 4 | Reward: 45.40 | Avg Reward: 136.09\n",
      "Episode 482 | Steps: 4 | Reward: 55.40 | Avg Reward: 133.11\n",
      "Episode 483 | Steps: 14 | Reward: 99.83 | Avg Reward: 133.85\n",
      "Episode 484 | Steps: 4 | Reward: 45.69 | Avg Reward: 132.86\n",
      "Episode 485 | Steps: 10 | Reward: 84.64 | Avg Reward: 133.14\n",
      "Episode 486 | Steps: 8 | Reward: 64.00 | Avg Reward: 133.28\n",
      "Episode 487 | Steps: 12 | Reward: 149.94 | Avg Reward: 133.26\n",
      "Episode 488 | Steps: 35 | Reward: 213.23 | Avg Reward: 134.55\n",
      "Episode 489 | Steps: 4 | Reward: 44.00 | Avg Reward: 134.69\n"
     ]
    },
    {
     "name": "stderr",
     "output_type": "stream",
     "text": [
      " 50%|████▉     | 499/1000 [00:09<00:08, 60.85it/s]"
     ]
    },
    {
     "name": "stdout",
     "output_type": "stream",
     "text": [
      "Episode 490 | Steps: 23 | Reward: 202.99 | Avg Reward: 135.23\n",
      "Episode 491 | Steps: 16 | Reward: 135.46 | Avg Reward: 135.49\n",
      "Episode 492 | Steps: 18 | Reward: 227.46 | Avg Reward: 137.17\n",
      "Episode 493 | Steps: 10 | Reward: 75.73 | Avg Reward: 137.35\n",
      "Episode 494 | Steps: 20 | Reward: 160.26 | Avg Reward: 137.86\n",
      "Episode 495 | Steps: 12 | Reward: 108.39 | Avg Reward: 135.58\n",
      "Episode 496 | Steps: 8 | Reward: 64.27 | Avg Reward: 134.99\n",
      "Episode 497 | Steps: 4 | Reward: 44.75 | Avg Reward: 135.16\n",
      "Episode 498 | Steps: 4 | Reward: 46.30 | Avg Reward: 134.27\n",
      "Episode 499 | Steps: 13 | Reward: 125.21 | Avg Reward: 135.03\n",
      "Episode 500 | Steps: 12 | Reward: 122.44 | Avg Reward: 133.29\n",
      "Weights exported to cart_pole_weights_500.bin in C-compatible format\n",
      "Episode 501 | Steps: 31 | Reward: 249.12 | Avg Reward: 134.24\n"
     ]
    },
    {
     "name": "stderr",
     "output_type": "stream",
     "text": [
      " 51%|█████     | 512/1000 [00:09<00:08, 56.98it/s]"
     ]
    },
    {
     "name": "stdout",
     "output_type": "stream",
     "text": [
      "Episode 502 | Steps: 34 | Reward: 251.66 | Avg Reward: 132.99\n",
      "Episode 503 | Steps: 6 | Reward: 57.71 | Avg Reward: 133.01\n",
      "Episode 504 | Steps: 10 | Reward: 130.12 | Avg Reward: 134.03\n",
      "Episode 505 | Steps: 10 | Reward: 76.47 | Avg Reward: 131.15\n",
      "Episode 506 | Steps: 6 | Reward: 56.53 | Avg Reward: 130.84\n",
      "Episode 507 | Steps: 16 | Reward: 144.43 | Avg Reward: 130.72\n",
      "Episode 508 | Steps: 2 | Reward: 28.98 | Avg Reward: 127.59\n",
      "Episode 509 | Steps: 35 | Reward: 226.74 | Avg Reward: 125.71\n",
      "Episode 510 | Steps: 30 | Reward: 271.53 | Avg Reward: 127.90\n",
      "Episode 511 | Steps: 8 | Reward: 66.07 | Avg Reward: 126.64\n",
      "Episode 512 | Steps: 2 | Reward: 28.31 | Avg Reward: 125.98\n",
      "Episode 513 | Steps: 2 | Reward: 26.81 | Avg Reward: 124.17\n"
     ]
    },
    {
     "name": "stderr",
     "output_type": "stream",
     "text": [
      " 53%|█████▎    | 526/1000 [00:09<00:07, 60.96it/s]"
     ]
    },
    {
     "name": "stdout",
     "output_type": "stream",
     "text": [
      "Episode 514 | Steps: 11 | Reward: 105.25 | Avg Reward: 124.93\n",
      "Episode 515 | Steps: 2 | Reward: 26.50 | Avg Reward: 124.33\n",
      "Episode 516 | Steps: 8 | Reward: 90.97 | Avg Reward: 124.08\n",
      "Episode 517 | Steps: 10 | Reward: 80.01 | Avg Reward: 124.58\n",
      "Episode 518 | Steps: 2 | Reward: 29.50 | Avg Reward: 122.03\n",
      "Episode 519 | Steps: 6 | Reward: 50.04 | Avg Reward: 121.76\n",
      "Episode 520 | Steps: 4 | Reward: 39.50 | Avg Reward: 120.10\n",
      "Episode 521 | Steps: 10 | Reward: 116.27 | Avg Reward: 119.71\n",
      "Episode 522 | Steps: 2 | Reward: 28.85 | Avg Reward: 119.41\n",
      "Episode 523 | Steps: 12 | Reward: 88.28 | Avg Reward: 118.85\n",
      "Episode 524 | Steps: 10 | Reward: 79.46 | Avg Reward: 115.42\n",
      "Episode 525 | Steps: 4 | Reward: 45.20 | Avg Reward: 115.60\n",
      "Episode 526 | Steps: 16 | Reward: 106.99 | Avg Reward: 116.41\n",
      "Episode 527 | Steps: 6 | Reward: 56.57 | Avg Reward: 115.08\n"
     ]
    },
    {
     "name": "stderr",
     "output_type": "stream",
     "text": [
      " 53%|█████▎    | 533/1000 [00:09<00:07, 60.74it/s]"
     ]
    },
    {
     "name": "stdout",
     "output_type": "stream",
     "text": [
      "Episode 528 | Steps: 14 | Reward: 104.79 | Avg Reward: 113.10\n",
      "Episode 529 | Steps: 12 | Reward: 87.98 | Avg Reward: 112.33\n",
      "Episode 530 | Steps: 10 | Reward: 138.79 | Avg Reward: 110.33\n",
      "Episode 531 | Steps: 4 | Reward: 53.52 | Avg Reward: 110.58\n",
      "Episode 532 | Steps: 19 | Reward: 187.49 | Avg Reward: 111.01\n",
      "Episode 533 | Steps: 12 | Reward: 88.68 | Avg Reward: 111.61\n",
      "Episode 534 | Steps: 14 | Reward: 136.96 | Avg Reward: 112.15\n",
      "Episode 535 | Steps: 18 | Reward: 188.58 | Avg Reward: 112.99\n",
      "Episode 536 | Steps: 28 | Reward: 233.18 | Avg Reward: 114.76\n",
      "Episode 537 | Steps: 11 | Reward: 89.11 | Avg Reward: 112.78\n",
      "Episode 538 | Steps: 16 | Reward: 157.35 | Avg Reward: 112.84\n",
      "Episode 539 | Steps: 8 | Reward: 70.14 | Avg Reward: 111.54\n"
     ]
    },
    {
     "name": "stderr",
     "output_type": "stream",
     "text": [
      " 55%|█████▍    | 546/1000 [00:09<00:07, 58.07it/s]"
     ]
    },
    {
     "name": "stdout",
     "output_type": "stream",
     "text": [
      "Episode 540 | Steps: 8 | Reward: 59.54 | Avg Reward: 111.85\n",
      "Episode 541 | Steps: 18 | Reward: 141.00 | Avg Reward: 111.51\n",
      "Episode 542 | Steps: 6 | Reward: 51.86 | Avg Reward: 110.24\n",
      "Episode 543 | Steps: 2 | Reward: 28.97 | Avg Reward: 107.45\n",
      "Episode 544 | Steps: 13 | Reward: 92.89 | Avg Reward: 105.08\n",
      "Episode 545 | Steps: 27 | Reward: 235.81 | Avg Reward: 106.92\n",
      "Episode 546 | Steps: 2 | Reward: 27.50 | Avg Reward: 100.74\n",
      "Episode 547 | Steps: 12 | Reward: 90.22 | Avg Reward: 100.65\n",
      "Episode 548 | Steps: 12 | Reward: 121.71 | Avg Reward: 101.20\n",
      "Episode 549 | Steps: 18 | Reward: 196.74 | Avg Reward: 102.88\n",
      "Episode 550 | Steps: 2 | Reward: 29.12 | Avg Reward: 102.68\n",
      "Weights exported to cart_pole_weights_550.bin in C-compatible format\n",
      "Episode 551 | Steps: 12 | Reward: 92.49 | Avg Reward: 102.52\n"
     ]
    },
    {
     "name": "stderr",
     "output_type": "stream",
     "text": [
      " 56%|█████▌    | 559/1000 [00:10<00:07, 55.96it/s]"
     ]
    },
    {
     "name": "stdout",
     "output_type": "stream",
     "text": [
      "Episode 552 | Steps: 2 | Reward: 28.90 | Avg Reward: 101.55\n",
      "Episode 553 | Steps: 4 | Reward: 44.05 | Avg Reward: 101.72\n",
      "Episode 554 | Steps: 13 | Reward: 91.27 | Avg Reward: 100.57\n",
      "Episode 555 | Steps: 8 | Reward: 63.27 | Avg Reward: 100.80\n",
      "Episode 556 | Steps: 4 | Reward: 46.83 | Avg Reward: 98.63\n",
      "Episode 557 | Steps: 10 | Reward: 78.31 | Avg Reward: 99.12\n",
      "Episode 558 | Steps: 2 | Reward: 29.15 | Avg Reward: 99.14\n",
      "Episode 559 | Steps: 2 | Reward: 29.84 | Avg Reward: 97.86\n",
      "Episode 560 | Steps: 21 | Reward: 174.24 | Avg Reward: 99.14\n",
      "Episode 561 | Steps: 10 | Reward: 101.20 | Avg Reward: 99.44\n"
     ]
    },
    {
     "name": "stderr",
     "output_type": "stream",
     "text": [
      " 57%|█████▋    | 571/1000 [00:10<00:07, 55.16it/s]"
     ]
    },
    {
     "name": "stdout",
     "output_type": "stream",
     "text": [
      "Episode 562 | Steps: 12 | Reward: 90.32 | Avg Reward: 100.05\n",
      "Episode 563 | Steps: 4 | Reward: 56.28 | Avg Reward: 99.36\n",
      "Episode 564 | Steps: 16 | Reward: 113.59 | Avg Reward: 99.55\n",
      "Episode 565 | Steps: 27 | Reward: 165.37 | Avg Reward: 100.20\n",
      "Episode 566 | Steps: 27 | Reward: 254.76 | Avg Reward: 102.00\n",
      "Episode 567 | Steps: 24 | Reward: 198.17 | Avg Reward: 102.56\n",
      "Episode 568 | Steps: 45 | Reward: 309.98 | Avg Reward: 105.24\n",
      "Episode 569 | Steps: 27 | Reward: 271.21 | Avg Reward: 105.69\n",
      "Episode 570 | Steps: 2 | Reward: 28.95 | Avg Reward: 105.40\n",
      "Episode 571 | Steps: 13 | Reward: 122.42 | Avg Reward: 104.56\n",
      "Episode 572 | Steps: 10 | Reward: 91.21 | Avg Reward: 104.90\n",
      "Episode 573 | Steps: 16 | Reward: 112.73 | Avg Reward: 104.49\n"
     ]
    },
    {
     "name": "stderr",
     "output_type": "stream",
     "text": [
      " 58%|█████▊    | 584/1000 [00:10<00:07, 56.59it/s]"
     ]
    },
    {
     "name": "stdout",
     "output_type": "stream",
     "text": [
      "Episode 574 | Steps: 2 | Reward: 28.64 | Avg Reward: 104.20\n",
      "Episode 575 | Steps: 6 | Reward: 57.81 | Avg Reward: 104.12\n",
      "Episode 576 | Steps: 10 | Reward: 74.80 | Avg Reward: 104.58\n",
      "Episode 577 | Steps: 22 | Reward: 152.57 | Avg Reward: 105.34\n",
      "Episode 578 | Steps: 2 | Reward: 29.44 | Avg Reward: 104.03\n",
      "Episode 579 | Steps: 29 | Reward: 173.62 | Avg Reward: 105.10\n",
      "Episode 580 | Steps: 29 | Reward: 276.67 | Avg Reward: 106.73\n",
      "Episode 581 | Steps: 13 | Reward: 122.14 | Avg Reward: 107.50\n",
      "Episode 582 | Steps: 4 | Reward: 45.91 | Avg Reward: 107.41\n",
      "Episode 583 | Steps: 22 | Reward: 229.44 | Avg Reward: 108.70\n",
      "Episode 584 | Steps: 12 | Reward: 84.65 | Avg Reward: 109.09\n",
      "Episode 585 | Steps: 6 | Reward: 56.83 | Avg Reward: 108.81\n"
     ]
    },
    {
     "name": "stderr",
     "output_type": "stream",
     "text": [
      " 60%|█████▉    | 596/1000 [00:10<00:07, 56.54it/s]"
     ]
    },
    {
     "name": "stdout",
     "output_type": "stream",
     "text": [
      "Episode 586 | Steps: 2 | Reward: 28.96 | Avg Reward: 108.46\n",
      "Episode 587 | Steps: 29 | Reward: 234.39 | Avg Reward: 109.31\n",
      "Episode 588 | Steps: 10 | Reward: 74.73 | Avg Reward: 107.92\n",
      "Episode 589 | Steps: 6 | Reward: 55.63 | Avg Reward: 108.04\n",
      "Episode 590 | Steps: 13 | Reward: 118.60 | Avg Reward: 107.19\n",
      "Episode 591 | Steps: 4 | Reward: 44.52 | Avg Reward: 106.29\n",
      "Episode 592 | Steps: 13 | Reward: 108.85 | Avg Reward: 105.10\n",
      "Episode 593 | Steps: 18 | Reward: 165.70 | Avg Reward: 106.00\n",
      "Episode 594 | Steps: 41 | Reward: 265.72 | Avg Reward: 107.05\n",
      "Episode 595 | Steps: 4 | Reward: 39.27 | Avg Reward: 106.36\n",
      "Episode 596 | Steps: 19 | Reward: 200.12 | Avg Reward: 107.72\n",
      "Episode 597 | Steps: 4 | Reward: 39.57 | Avg Reward: 107.67\n"
     ]
    },
    {
     "name": "stderr",
     "output_type": "stream",
     "text": [
      " 61%|██████    | 609/1000 [00:10<00:06, 58.07it/s]"
     ]
    },
    {
     "name": "stdout",
     "output_type": "stream",
     "text": [
      "Episode 598 | Steps: 10 | Reward: 87.57 | Avg Reward: 108.08\n",
      "Episode 599 | Steps: 8 | Reward: 110.53 | Avg Reward: 107.93\n",
      "Episode 600 | Steps: 16 | Reward: 180.52 | Avg Reward: 108.52\n",
      "Weights exported to cart_pole_weights_600.bin in C-compatible format\n",
      "Episode 601 | Steps: 6 | Reward: 80.32 | Avg Reward: 106.83\n",
      "Episode 602 | Steps: 6 | Reward: 55.55 | Avg Reward: 104.87\n",
      "Episode 603 | Steps: 16 | Reward: 115.56 | Avg Reward: 105.44\n",
      "Episode 604 | Steps: 23 | Reward: 191.97 | Avg Reward: 106.06\n",
      "Episode 605 | Steps: 10 | Reward: 78.91 | Avg Reward: 106.09\n",
      "Episode 606 | Steps: 27 | Reward: 281.16 | Avg Reward: 108.33\n",
      "Episode 607 | Steps: 8 | Reward: 62.29 | Avg Reward: 107.51\n",
      "Episode 608 | Steps: 4 | Reward: 45.67 | Avg Reward: 107.68\n",
      "Episode 609 | Steps: 25 | Reward: 153.97 | Avg Reward: 106.95\n"
     ]
    },
    {
     "name": "stderr",
     "output_type": "stream",
     "text": [
      " 62%|██████▏   | 615/1000 [00:11<00:06, 57.49it/s]"
     ]
    },
    {
     "name": "stdout",
     "output_type": "stream",
     "text": [
      "Episode 610 | Steps: 32 | Reward: 317.14 | Avg Reward: 107.41\n",
      "Episode 611 | Steps: 20 | Reward: 147.84 | Avg Reward: 108.23\n",
      "Episode 612 | Steps: 10 | Reward: 101.29 | Avg Reward: 108.96\n",
      "Episode 613 | Steps: 18 | Reward: 123.81 | Avg Reward: 109.93\n",
      "Episode 614 | Steps: 8 | Reward: 80.09 | Avg Reward: 109.67\n",
      "Episode 615 | Steps: 22 | Reward: 180.81 | Avg Reward: 111.22\n",
      "Episode 616 | Steps: 18 | Reward: 159.17 | Avg Reward: 111.90\n",
      "Episode 617 | Steps: 24 | Reward: 162.22 | Avg Reward: 112.72\n",
      "Episode 618 | Steps: 4 | Reward: 42.33 | Avg Reward: 112.85\n",
      "Episode 619 | Steps: 19 | Reward: 119.02 | Avg Reward: 113.54\n",
      "Episode 620 | Steps: 14 | Reward: 134.93 | Avg Reward: 114.49\n",
      "Episode 621 | Steps: 10 | Reward: 75.13 | Avg Reward: 114.08\n",
      "Episode 622 | Steps: 2 | Reward: 28.98 | Avg Reward: 114.08\n"
     ]
    },
    {
     "name": "stderr",
     "output_type": "stream",
     "text": [
      " 63%|██████▎   | 628/1000 [00:11<00:06, 57.47it/s]"
     ]
    },
    {
     "name": "stdout",
     "output_type": "stream",
     "text": [
      "Episode 623 | Steps: 10 | Reward: 74.41 | Avg Reward: 113.94\n",
      "Episode 624 | Steps: 24 | Reward: 163.71 | Avg Reward: 114.79\n",
      "Episode 625 | Steps: 25 | Reward: 166.48 | Avg Reward: 116.00\n",
      "Episode 626 | Steps: 2 | Reward: 29.54 | Avg Reward: 115.23\n",
      "Episode 627 | Steps: 6 | Reward: 57.00 | Avg Reward: 115.23\n",
      "Episode 628 | Steps: 32 | Reward: 227.44 | Avg Reward: 116.46\n",
      "Episode 629 | Steps: 4 | Reward: 40.20 | Avg Reward: 115.98\n",
      "Episode 630 | Steps: 13 | Reward: 121.22 | Avg Reward: 115.80\n",
      "Episode 631 | Steps: 12 | Reward: 114.08 | Avg Reward: 116.41\n",
      "Episode 632 | Steps: 12 | Reward: 83.47 | Avg Reward: 115.37\n",
      "Episode 633 | Steps: 22 | Reward: 139.60 | Avg Reward: 115.88\n",
      "Episode 634 | Steps: 8 | Reward: 90.31 | Avg Reward: 115.41\n"
     ]
    },
    {
     "name": "stderr",
     "output_type": "stream",
     "text": [
      " 64%|██████▍   | 640/1000 [00:11<00:06, 54.78it/s]"
     ]
    },
    {
     "name": "stdout",
     "output_type": "stream",
     "text": [
      "Episode 635 | Steps: 13 | Reward: 90.92 | Avg Reward: 114.43\n",
      "Episode 636 | Steps: 2 | Reward: 27.24 | Avg Reward: 112.37\n",
      "Episode 637 | Steps: 2 | Reward: 28.91 | Avg Reward: 111.77\n",
      "Episode 638 | Steps: 41 | Reward: 276.25 | Avg Reward: 112.96\n",
      "Episode 639 | Steps: 23 | Reward: 159.04 | Avg Reward: 113.85\n",
      "Episode 640 | Steps: 39 | Reward: 248.26 | Avg Reward: 115.74\n",
      "Episode 641 | Steps: 20 | Reward: 157.76 | Avg Reward: 115.91\n",
      "Episode 642 | Steps: 16 | Reward: 120.73 | Avg Reward: 116.59\n",
      "Episode 643 | Steps: 2 | Reward: 29.22 | Avg Reward: 116.60\n",
      "Episode 644 | Steps: 21 | Reward: 196.08 | Avg Reward: 117.63\n",
      "Episode 645 | Steps: 11 | Reward: 87.91 | Avg Reward: 116.15\n"
     ]
    },
    {
     "name": "stderr",
     "output_type": "stream",
     "text": [
      " 65%|██████▌   | 653/1000 [00:11<00:06, 57.82it/s]"
     ]
    },
    {
     "name": "stdout",
     "output_type": "stream",
     "text": [
      "Episode 646 | Steps: 12 | Reward: 117.04 | Avg Reward: 117.05\n",
      "Episode 647 | Steps: 4 | Reward: 43.63 | Avg Reward: 116.58\n",
      "Episode 648 | Steps: 10 | Reward: 76.66 | Avg Reward: 116.13\n",
      "Episode 649 | Steps: 2 | Reward: 28.57 | Avg Reward: 114.45\n",
      "Episode 650 | Steps: 17 | Reward: 113.29 | Avg Reward: 115.29\n",
      "Weights exported to cart_pole_weights_650.bin in C-compatible format\n",
      "Episode 651 | Steps: 4 | Reward: 42.29 | Avg Reward: 114.79\n",
      "Episode 652 | Steps: 2 | Reward: 28.19 | Avg Reward: 114.78\n",
      "Episode 653 | Steps: 6 | Reward: 55.88 | Avg Reward: 114.90\n",
      "Episode 654 | Steps: 16 | Reward: 112.38 | Avg Reward: 115.11\n",
      "Episode 655 | Steps: 6 | Reward: 54.40 | Avg Reward: 115.02\n",
      "Episode 656 | Steps: 18 | Reward: 187.06 | Avg Reward: 116.42\n",
      "Episode 657 | Steps: 10 | Reward: 77.94 | Avg Reward: 116.42\n",
      "Episode 658 | Steps: 8 | Reward: 59.54 | Avg Reward: 116.72\n"
     ]
    },
    {
     "name": "stderr",
     "output_type": "stream",
     "text": [
      " 67%|██████▋   | 666/1000 [00:11<00:05, 59.04it/s]"
     ]
    },
    {
     "name": "stdout",
     "output_type": "stream",
     "text": [
      "Episode 659 | Steps: 41 | Reward: 259.69 | Avg Reward: 119.02\n",
      "Episode 660 | Steps: 8 | Reward: 101.71 | Avg Reward: 118.30\n",
      "Episode 661 | Steps: 8 | Reward: 62.44 | Avg Reward: 117.91\n",
      "Episode 662 | Steps: 13 | Reward: 85.48 | Avg Reward: 117.86\n",
      "Episode 663 | Steps: 2 | Reward: 29.65 | Avg Reward: 117.59\n",
      "Episode 664 | Steps: 4 | Reward: 45.66 | Avg Reward: 116.91\n",
      "Episode 665 | Steps: 19 | Reward: 141.40 | Avg Reward: 116.67\n",
      "Episode 666 | Steps: 8 | Reward: 72.08 | Avg Reward: 114.85\n",
      "Episode 667 | Steps: 12 | Reward: 90.62 | Avg Reward: 113.77\n",
      "Episode 668 | Steps: 12 | Reward: 119.97 | Avg Reward: 111.87\n",
      "Episode 669 | Steps: 28 | Reward: 211.36 | Avg Reward: 111.27\n",
      "Episode 670 | Steps: 32 | Reward: 229.37 | Avg Reward: 113.28\n"
     ]
    },
    {
     "name": "stderr",
     "output_type": "stream",
     "text": [
      " 68%|██████▊   | 679/1000 [00:12<00:05, 59.39it/s]"
     ]
    },
    {
     "name": "stdout",
     "output_type": "stream",
     "text": [
      "Episode 671 | Steps: 13 | Reward: 98.24 | Avg Reward: 113.04\n",
      "Episode 672 | Steps: 23 | Reward: 191.61 | Avg Reward: 114.04\n",
      "Episode 673 | Steps: 2 | Reward: 27.75 | Avg Reward: 113.19\n",
      "Episode 674 | Steps: 6 | Reward: 55.85 | Avg Reward: 113.46\n",
      "Episode 675 | Steps: 4 | Reward: 45.53 | Avg Reward: 113.34\n",
      "Episode 676 | Steps: 2 | Reward: 27.39 | Avg Reward: 112.87\n",
      "Episode 677 | Steps: 16 | Reward: 163.23 | Avg Reward: 112.97\n",
      "Episode 678 | Steps: 8 | Reward: 62.93 | Avg Reward: 113.31\n",
      "Episode 679 | Steps: 2 | Reward: 28.59 | Avg Reward: 111.86\n",
      "Episode 680 | Steps: 20 | Reward: 173.37 | Avg Reward: 110.82\n",
      "Episode 681 | Steps: 18 | Reward: 127.69 | Avg Reward: 110.88\n",
      "Episode 682 | Steps: 17 | Reward: 111.22 | Avg Reward: 111.53\n"
     ]
    },
    {
     "name": "stderr",
     "output_type": "stream",
     "text": [
      " 69%|██████▉   | 692/1000 [00:12<00:05, 61.28it/s]"
     ]
    },
    {
     "name": "stdout",
     "output_type": "stream",
     "text": [
      "Episode 683 | Steps: 4 | Reward: 41.69 | Avg Reward: 109.65\n",
      "Episode 684 | Steps: 20 | Reward: 176.39 | Avg Reward: 110.57\n",
      "Episode 685 | Steps: 4 | Reward: 44.63 | Avg Reward: 110.45\n",
      "Episode 686 | Steps: 22 | Reward: 184.77 | Avg Reward: 112.01\n",
      "Episode 687 | Steps: 8 | Reward: 65.50 | Avg Reward: 110.32\n",
      "Episode 688 | Steps: 2 | Reward: 28.97 | Avg Reward: 109.86\n",
      "Episode 689 | Steps: 2 | Reward: 26.50 | Avg Reward: 109.57\n",
      "Episode 690 | Steps: 2 | Reward: 29.82 | Avg Reward: 108.68\n",
      "Episode 691 | Steps: 16 | Reward: 141.92 | Avg Reward: 109.66\n",
      "Episode 692 | Steps: 6 | Reward: 56.89 | Avg Reward: 109.14\n",
      "Episode 693 | Steps: 10 | Reward: 127.75 | Avg Reward: 108.76\n",
      "Episode 694 | Steps: 6 | Reward: 54.18 | Avg Reward: 106.64\n",
      "Episode 695 | Steps: 4 | Reward: 45.99 | Avg Reward: 106.71\n",
      "Episode 696 | Steps: 6 | Reward: 83.38 | Avg Reward: 105.54\n"
     ]
    },
    {
     "name": "stderr",
     "output_type": "stream",
     "text": [
      " 71%|███████   | 706/1000 [00:12<00:04, 59.83it/s]"
     ]
    },
    {
     "name": "stdout",
     "output_type": "stream",
     "text": [
      "Episode 697 | Steps: 18 | Reward: 132.20 | Avg Reward: 106.47\n",
      "Episode 698 | Steps: 8 | Reward: 65.23 | Avg Reward: 106.25\n",
      "Episode 699 | Steps: 8 | Reward: 91.35 | Avg Reward: 106.05\n",
      "Episode 700 | Steps: 8 | Reward: 63.23 | Avg Reward: 104.88\n",
      "Weights exported to cart_pole_weights_700.bin in C-compatible format\n",
      "Episode 701 | Steps: 4 | Reward: 43.83 | Avg Reward: 104.52\n",
      "Episode 702 | Steps: 6 | Reward: 56.41 | Avg Reward: 104.52\n",
      "Episode 703 | Steps: 2 | Reward: 28.23 | Avg Reward: 103.65\n",
      "Episode 704 | Steps: 13 | Reward: 94.80 | Avg Reward: 102.68\n",
      "Episode 705 | Steps: 27 | Reward: 249.96 | Avg Reward: 104.39\n",
      "Episode 706 | Steps: 31 | Reward: 218.39 | Avg Reward: 103.76\n",
      "Episode 707 | Steps: 2 | Reward: 28.53 | Avg Reward: 103.42\n",
      "Episode 708 | Steps: 14 | Reward: 102.58 | Avg Reward: 103.99\n"
     ]
    },
    {
     "name": "stderr",
     "output_type": "stream",
     "text": [
      " 71%|███████▏  | 713/1000 [00:12<00:05, 55.40it/s]"
     ]
    },
    {
     "name": "stdout",
     "output_type": "stream",
     "text": [
      "Episode 709 | Steps: 11 | Reward: 112.80 | Avg Reward: 103.58\n",
      "Episode 710 | Steps: 10 | Reward: 77.65 | Avg Reward: 101.19\n",
      "Episode 711 | Steps: 26 | Reward: 171.57 | Avg Reward: 101.42\n",
      "Episode 712 | Steps: 2 | Reward: 27.86 | Avg Reward: 100.69\n",
      "Episode 713 | Steps: 12 | Reward: 86.32 | Avg Reward: 100.31\n",
      "Episode 714 | Steps: 14 | Reward: 107.48 | Avg Reward: 100.59\n",
      "Episode 715 | Steps: 8 | Reward: 63.36 | Avg Reward: 99.41\n",
      "Episode 716 | Steps: 4 | Reward: 39.51 | Avg Reward: 98.22\n",
      "Episode 717 | Steps: 32 | Reward: 234.88 | Avg Reward: 98.94\n",
      "Episode 718 | Steps: 16 | Reward: 143.50 | Avg Reward: 99.96\n"
     ]
    },
    {
     "name": "stderr",
     "output_type": "stream",
     "text": [
      " 72%|███████▎  | 725/1000 [00:12<00:04, 55.02it/s]"
     ]
    },
    {
     "name": "stdout",
     "output_type": "stream",
     "text": [
      "Episode 719 | Steps: 28 | Reward: 221.45 | Avg Reward: 100.98\n",
      "Episode 720 | Steps: 23 | Reward: 192.51 | Avg Reward: 101.56\n",
      "Episode 721 | Steps: 6 | Reward: 56.73 | Avg Reward: 101.37\n",
      "Episode 722 | Steps: 20 | Reward: 169.12 | Avg Reward: 102.77\n",
      "Episode 723 | Steps: 6 | Reward: 57.26 | Avg Reward: 102.60\n",
      "Episode 724 | Steps: 6 | Reward: 88.77 | Avg Reward: 101.85\n",
      "Episode 725 | Steps: 6 | Reward: 86.53 | Avg Reward: 101.05\n",
      "Episode 726 | Steps: 12 | Reward: 81.88 | Avg Reward: 101.58\n",
      "Episode 727 | Steps: 2 | Reward: 26.43 | Avg Reward: 101.27\n",
      "Episode 728 | Steps: 2 | Reward: 29.44 | Avg Reward: 99.29\n",
      "Episode 729 | Steps: 10 | Reward: 73.59 | Avg Reward: 99.62\n",
      "Episode 730 | Steps: 8 | Reward: 61.84 | Avg Reward: 99.03\n"
     ]
    },
    {
     "name": "stderr",
     "output_type": "stream",
     "text": [
      " 74%|███████▍  | 738/1000 [00:13<00:04, 56.10it/s]"
     ]
    },
    {
     "name": "stdout",
     "output_type": "stream",
     "text": [
      "Episode 731 | Steps: 8 | Reward: 116.70 | Avg Reward: 99.06\n",
      "Episode 732 | Steps: 2 | Reward: 29.72 | Avg Reward: 98.52\n",
      "Episode 733 | Steps: 9 | Reward: 80.38 | Avg Reward: 97.93\n",
      "Episode 734 | Steps: 13 | Reward: 117.45 | Avg Reward: 98.20\n",
      "Episode 735 | Steps: 6 | Reward: 56.09 | Avg Reward: 97.85\n",
      "Episode 736 | Steps: 32 | Reward: 232.60 | Avg Reward: 99.90\n",
      "Episode 737 | Steps: 12 | Reward: 92.81 | Avg Reward: 100.54\n",
      "Episode 738 | Steps: 14 | Reward: 104.61 | Avg Reward: 98.83\n",
      "Episode 739 | Steps: 24 | Reward: 157.18 | Avg Reward: 98.81\n",
      "Episode 740 | Steps: 2 | Reward: 27.21 | Avg Reward: 96.60\n",
      "Episode 741 | Steps: 4 | Reward: 57.73 | Avg Reward: 95.60\n",
      "Episode 742 | Steps: 8 | Reward: 65.68 | Avg Reward: 95.05\n"
     ]
    },
    {
     "name": "stderr",
     "output_type": "stream",
     "text": [
      " 75%|███████▌  | 750/1000 [00:13<00:04, 55.84it/s]"
     ]
    },
    {
     "name": "stdout",
     "output_type": "stream",
     "text": [
      "Episode 743 | Steps: 37 | Reward: 298.30 | Avg Reward: 97.74\n",
      "Episode 744 | Steps: 10 | Reward: 77.67 | Avg Reward: 96.55\n",
      "Episode 745 | Steps: 8 | Reward: 61.91 | Avg Reward: 96.29\n",
      "Episode 746 | Steps: 45 | Reward: 231.43 | Avg Reward: 97.44\n",
      "Episode 747 | Steps: 2 | Reward: 28.96 | Avg Reward: 97.29\n",
      "Episode 748 | Steps: 4 | Reward: 50.99 | Avg Reward: 97.03\n",
      "Episode 749 | Steps: 10 | Reward: 71.31 | Avg Reward: 97.46\n",
      "Episode 750 | Steps: 4 | Reward: 41.82 | Avg Reward: 96.75\n",
      "Weights exported to cart_pole_weights_750.bin in C-compatible format\n",
      "Episode 751 | Steps: 6 | Reward: 54.57 | Avg Reward: 96.87\n",
      "Episode 752 | Steps: 22 | Reward: 144.84 | Avg Reward: 98.04\n",
      "Episode 753 | Steps: 4 | Reward: 58.52 | Avg Reward: 98.06\n"
     ]
    },
    {
     "name": "stderr",
     "output_type": "stream",
     "text": [
      " 76%|███████▌  | 762/1000 [00:13<00:05, 43.35it/s]"
     ]
    },
    {
     "name": "stdout",
     "output_type": "stream",
     "text": [
      "Episode 754 | Steps: 2 | Reward: 27.23 | Avg Reward: 97.21\n",
      "Episode 755 | Steps: 13 | Reward: 100.51 | Avg Reward: 97.67\n",
      "Episode 756 | Steps: 12 | Reward: 90.17 | Avg Reward: 96.70\n",
      "Episode 757 | Steps: 29 | Reward: 218.51 | Avg Reward: 98.11\n",
      "Episode 758 | Steps: 2 | Reward: 27.99 | Avg Reward: 97.79\n",
      "Episode 759 | Steps: 18 | Reward: 126.93 | Avg Reward: 96.47\n",
      "Episode 760 | Steps: 8 | Reward: 67.63 | Avg Reward: 96.12\n",
      "Episode 761 | Steps: 2 | Reward: 29.03 | Avg Reward: 95.79\n",
      "Episode 762 | Steps: 10 | Reward: 77.76 | Avg Reward: 95.71\n",
      "Episode 763 | Steps: 28 | Reward: 234.08 | Avg Reward: 97.76\n",
      "Episode 764 | Steps: 10 | Reward: 76.28 | Avg Reward: 98.06\n",
      "Episode 765 | Steps: 2 | Reward: 28.55 | Avg Reward: 96.94\n"
     ]
    },
    {
     "name": "stderr",
     "output_type": "stream",
     "text": [
      " 78%|███████▊  | 775/1000 [00:14<00:04, 50.44it/s]"
     ]
    },
    {
     "name": "stdout",
     "output_type": "stream",
     "text": [
      "Episode 766 | Steps: 20 | Reward: 135.97 | Avg Reward: 97.57\n",
      "Episode 767 | Steps: 14 | Reward: 104.55 | Avg Reward: 97.71\n",
      "Episode 768 | Steps: 6 | Reward: 56.43 | Avg Reward: 97.08\n",
      "Episode 769 | Steps: 4 | Reward: 43.95 | Avg Reward: 95.40\n",
      "Episode 770 | Steps: 6 | Reward: 56.41 | Avg Reward: 93.67\n",
      "Episode 771 | Steps: 20 | Reward: 136.28 | Avg Reward: 94.05\n",
      "Episode 772 | Steps: 10 | Reward: 96.74 | Avg Reward: 93.11\n",
      "Episode 773 | Steps: 2 | Reward: 29.50 | Avg Reward: 93.12\n",
      "Episode 774 | Steps: 19 | Reward: 134.92 | Avg Reward: 93.91\n",
      "Episode 775 | Steps: 10 | Reward: 72.94 | Avg Reward: 94.19\n",
      "Episode 776 | Steps: 14 | Reward: 98.78 | Avg Reward: 94.90\n",
      "Episode 777 | Steps: 6 | Reward: 61.74 | Avg Reward: 93.89\n"
     ]
    },
    {
     "name": "stderr",
     "output_type": "stream",
     "text": [
      " 79%|███████▊  | 787/1000 [00:14<00:04, 51.85it/s]"
     ]
    },
    {
     "name": "stdout",
     "output_type": "stream",
     "text": [
      "Episode 778 | Steps: 2 | Reward: 28.63 | Avg Reward: 93.54\n",
      "Episode 779 | Steps: 8 | Reward: 70.53 | Avg Reward: 93.96\n",
      "Episode 780 | Steps: 10 | Reward: 92.33 | Avg Reward: 93.15\n",
      "Episode 781 | Steps: 4 | Reward: 46.43 | Avg Reward: 92.34\n",
      "Episode 782 | Steps: 20 | Reward: 132.37 | Avg Reward: 92.55\n",
      "Episode 783 | Steps: 12 | Reward: 118.86 | Avg Reward: 93.32\n",
      "Episode 784 | Steps: 18 | Reward: 236.72 | Avg Reward: 93.93\n",
      "Episode 785 | Steps: 18 | Reward: 124.05 | Avg Reward: 94.72\n",
      "Episode 786 | Steps: 45 | Reward: 278.80 | Avg Reward: 95.66\n",
      "Episode 787 | Steps: 6 | Reward: 53.16 | Avg Reward: 95.54\n",
      "Episode 788 | Steps: 21 | Reward: 202.50 | Avg Reward: 97.27\n"
     ]
    },
    {
     "name": "stderr",
     "output_type": "stream",
     "text": [
      " 79%|███████▉  | 793/1000 [00:14<00:03, 53.69it/s]"
     ]
    },
    {
     "name": "stdout",
     "output_type": "stream",
     "text": [
      "Episode 789 | Steps: 12 | Reward: 84.73 | Avg Reward: 97.86\n",
      "Episode 790 | Steps: 12 | Reward: 91.88 | Avg Reward: 98.48\n",
      "Episode 791 | Steps: 4 | Reward: 42.73 | Avg Reward: 97.48\n",
      "Episode 792 | Steps: 16 | Reward: 116.55 | Avg Reward: 98.08\n",
      "Episode 793 | Steps: 20 | Reward: 166.26 | Avg Reward: 98.47\n",
      "Episode 794 | Steps: 10 | Reward: 71.01 | Avg Reward: 98.63\n",
      "Episode 795 | Steps: 12 | Reward: 82.32 | Avg Reward: 99.00\n",
      "Episode 796 | Steps: 16 | Reward: 117.38 | Avg Reward: 99.34\n",
      "Episode 797 | Steps: 37 | Reward: 201.86 | Avg Reward: 100.03\n",
      "Episode 798 | Steps: 2 | Reward: 26.44 | Avg Reward: 99.65\n",
      "Episode 799 | Steps: 4 | Reward: 53.63 | Avg Reward: 99.27\n",
      "Episode 800 | Steps: 49 | Reward: 381.96 | Avg Reward: 102.46\n"
     ]
    },
    {
     "name": "stderr",
     "output_type": "stream",
     "text": [
      " 81%|████████  | 807/1000 [00:14<00:03, 56.24it/s]"
     ]
    },
    {
     "name": "stdout",
     "output_type": "stream",
     "text": [
      "Weights exported to cart_pole_weights_800.bin in C-compatible format\n",
      "Episode 801 | Steps: 24 | Reward: 167.08 | Avg Reward: 103.69\n",
      "Episode 802 | Steps: 2 | Reward: 28.79 | Avg Reward: 103.41\n",
      "Episode 803 | Steps: 6 | Reward: 88.42 | Avg Reward: 104.02\n",
      "Episode 804 | Steps: 12 | Reward: 139.18 | Avg Reward: 104.46\n",
      "Episode 805 | Steps: 8 | Reward: 64.38 | Avg Reward: 102.60\n",
      "Episode 806 | Steps: 2 | Reward: 28.84 | Avg Reward: 100.71\n",
      "Episode 807 | Steps: 10 | Reward: 78.19 | Avg Reward: 101.20\n",
      "Episode 808 | Steps: 28 | Reward: 181.18 | Avg Reward: 101.99\n",
      "Episode 809 | Steps: 8 | Reward: 64.57 | Avg Reward: 101.51\n",
      "Episode 810 | Steps: 12 | Reward: 98.15 | Avg Reward: 101.71\n",
      "Episode 811 | Steps: 18 | Reward: 126.26 | Avg Reward: 101.26\n",
      "Episode 812 | Steps: 6 | Reward: 55.32 | Avg Reward: 101.53\n"
     ]
    },
    {
     "name": "stderr",
     "output_type": "stream",
     "text": [
      " 82%|████████▏ | 819/1000 [00:14<00:03, 56.15it/s]"
     ]
    },
    {
     "name": "stdout",
     "output_type": "stream",
     "text": [
      "Episode 813 | Steps: 14 | Reward: 110.43 | Avg Reward: 101.78\n",
      "Episode 814 | Steps: 17 | Reward: 178.20 | Avg Reward: 102.48\n",
      "Episode 815 | Steps: 21 | Reward: 197.49 | Avg Reward: 103.82\n",
      "Episode 816 | Steps: 4 | Reward: 43.13 | Avg Reward: 103.86\n",
      "Episode 817 | Steps: 8 | Reward: 61.07 | Avg Reward: 102.12\n",
      "Episode 818 | Steps: 12 | Reward: 88.15 | Avg Reward: 101.57\n",
      "Episode 819 | Steps: 41 | Reward: 260.60 | Avg Reward: 101.96\n",
      "Episode 820 | Steps: 22 | Reward: 156.13 | Avg Reward: 101.60\n",
      "Episode 821 | Steps: 10 | Reward: 66.59 | Avg Reward: 101.69\n",
      "Episode 822 | Steps: 10 | Reward: 67.59 | Avg Reward: 100.68\n",
      "Episode 823 | Steps: 20 | Reward: 187.84 | Avg Reward: 101.99\n",
      "Episode 824 | Steps: 2 | Reward: 28.37 | Avg Reward: 101.38\n"
     ]
    },
    {
     "name": "stderr",
     "output_type": "stream",
     "text": [
      " 83%|████████▎ | 831/1000 [00:15<00:02, 57.04it/s]"
     ]
    },
    {
     "name": "stdout",
     "output_type": "stream",
     "text": [
      "Episode 825 | Steps: 18 | Reward: 127.47 | Avg Reward: 101.79\n",
      "Episode 826 | Steps: 39 | Reward: 285.54 | Avg Reward: 103.83\n",
      "Episode 827 | Steps: 13 | Reward: 122.15 | Avg Reward: 104.78\n",
      "Episode 828 | Steps: 2 | Reward: 25.92 | Avg Reward: 104.75\n",
      "Episode 829 | Steps: 4 | Reward: 45.93 | Avg Reward: 104.47\n",
      "Episode 830 | Steps: 14 | Reward: 137.26 | Avg Reward: 105.23\n",
      "Episode 831 | Steps: 8 | Reward: 61.58 | Avg Reward: 104.68\n",
      "Episode 832 | Steps: 33 | Reward: 299.15 | Avg Reward: 107.37\n",
      "Episode 833 | Steps: 4 | Reward: 58.41 | Avg Reward: 107.15\n",
      "Episode 834 | Steps: 17 | Reward: 190.97 | Avg Reward: 107.89\n",
      "Episode 835 | Steps: 22 | Reward: 154.13 | Avg Reward: 108.87\n",
      "Episode 836 | Steps: 2 | Reward: 28.24 | Avg Reward: 106.82\n"
     ]
    },
    {
     "name": "stderr",
     "output_type": "stream",
     "text": [
      " 84%|████████▍ | 843/1000 [00:15<00:02, 57.50it/s]"
     ]
    },
    {
     "name": "stdout",
     "output_type": "stream",
     "text": [
      "Episode 837 | Steps: 2 | Reward: 29.23 | Avg Reward: 106.19\n",
      "Episode 838 | Steps: 20 | Reward: 210.55 | Avg Reward: 107.25\n",
      "Episode 839 | Steps: 4 | Reward: 58.86 | Avg Reward: 106.26\n",
      "Episode 840 | Steps: 4 | Reward: 43.63 | Avg Reward: 106.43\n",
      "Episode 841 | Steps: 2 | Reward: 28.67 | Avg Reward: 106.14\n",
      "Episode 842 | Steps: 11 | Reward: 104.91 | Avg Reward: 106.53\n",
      "Episode 843 | Steps: 4 | Reward: 45.00 | Avg Reward: 104.00\n",
      "Episode 844 | Steps: 13 | Reward: 87.57 | Avg Reward: 104.09\n",
      "Episode 845 | Steps: 2 | Reward: 28.88 | Avg Reward: 103.76\n",
      "Episode 846 | Steps: 10 | Reward: 111.54 | Avg Reward: 102.57\n",
      "Episode 847 | Steps: 18 | Reward: 136.64 | Avg Reward: 103.64\n",
      "Episode 848 | Steps: 4 | Reward: 39.03 | Avg Reward: 103.52\n",
      "Episode 849 | Steps: 10 | Reward: 81.00 | Avg Reward: 103.62\n"
     ]
    },
    {
     "name": "stderr",
     "output_type": "stream",
     "text": [
      " 86%|████████▌ | 856/1000 [00:15<00:02, 58.34it/s]"
     ]
    },
    {
     "name": "stdout",
     "output_type": "stream",
     "text": [
      "Episode 850 | Steps: 13 | Reward: 116.24 | Avg Reward: 104.36\n",
      "Weights exported to cart_pole_weights_850.bin in C-compatible format\n",
      "Episode 851 | Steps: 6 | Reward: 58.98 | Avg Reward: 104.41\n",
      "Episode 852 | Steps: 2 | Reward: 26.46 | Avg Reward: 103.22\n",
      "Episode 853 | Steps: 19 | Reward: 131.47 | Avg Reward: 103.95\n",
      "Episode 854 | Steps: 13 | Reward: 90.57 | Avg Reward: 104.59\n",
      "Episode 855 | Steps: 16 | Reward: 124.41 | Avg Reward: 104.83\n",
      "Episode 856 | Steps: 4 | Reward: 45.80 | Avg Reward: 104.38\n",
      "Episode 857 | Steps: 8 | Reward: 103.87 | Avg Reward: 103.24\n",
      "Episode 858 | Steps: 12 | Reward: 165.02 | Avg Reward: 104.61\n",
      "Episode 859 | Steps: 6 | Reward: 54.36 | Avg Reward: 103.88\n",
      "Episode 860 | Steps: 12 | Reward: 113.06 | Avg Reward: 104.33\n",
      "Episode 861 | Steps: 2 | Reward: 28.53 | Avg Reward: 104.33\n"
     ]
    },
    {
     "name": "stderr",
     "output_type": "stream",
     "text": [
      " 87%|████████▋ | 868/1000 [00:15<00:02, 50.25it/s]"
     ]
    },
    {
     "name": "stdout",
     "output_type": "stream",
     "text": [
      "Episode 862 | Steps: 8 | Reward: 63.25 | Avg Reward: 104.18\n",
      "Episode 863 | Steps: 30 | Reward: 227.33 | Avg Reward: 104.12\n",
      "Episode 864 | Steps: 31 | Reward: 222.08 | Avg Reward: 105.57\n",
      "Episode 865 | Steps: 2 | Reward: 29.38 | Avg Reward: 105.58\n",
      "Episode 866 | Steps: 12 | Reward: 102.41 | Avg Reward: 105.25\n",
      "Episode 867 | Steps: 13 | Reward: 94.69 | Avg Reward: 105.15\n",
      "Episode 868 | Steps: 2 | Reward: 26.00 | Avg Reward: 104.84\n",
      "Episode 869 | Steps: 10 | Reward: 78.64 | Avg Reward: 105.19\n",
      "Episode 870 | Steps: 16 | Reward: 137.22 | Avg Reward: 106.00\n"
     ]
    },
    {
     "name": "stderr",
     "output_type": "stream",
     "text": [
      " 88%|████████▊ | 880/1000 [00:15<00:02, 50.50it/s]"
     ]
    },
    {
     "name": "stdout",
     "output_type": "stream",
     "text": [
      "Episode 871 | Steps: 19 | Reward: 122.54 | Avg Reward: 105.86\n",
      "Episode 872 | Steps: 14 | Reward: 128.75 | Avg Reward: 106.18\n",
      "Episode 873 | Steps: 8 | Reward: 65.91 | Avg Reward: 106.55\n",
      "Episode 874 | Steps: 10 | Reward: 72.16 | Avg Reward: 105.92\n",
      "Episode 875 | Steps: 33 | Reward: 235.76 | Avg Reward: 107.55\n",
      "Episode 876 | Steps: 12 | Reward: 93.11 | Avg Reward: 107.49\n",
      "Episode 877 | Steps: 20 | Reward: 130.61 | Avg Reward: 108.18\n",
      "Episode 878 | Steps: 8 | Reward: 62.66 | Avg Reward: 108.52\n",
      "Episode 879 | Steps: 37 | Reward: 242.12 | Avg Reward: 110.24\n",
      "Episode 880 | Steps: 47 | Reward: 251.14 | Avg Reward: 111.82\n",
      "Episode 881 | Steps: 8 | Reward: 63.48 | Avg Reward: 111.99\n"
     ]
    },
    {
     "name": "stderr",
     "output_type": "stream",
     "text": [
      " 89%|████████▊ | 887/1000 [00:16<00:02, 53.64it/s]"
     ]
    },
    {
     "name": "stdout",
     "output_type": "stream",
     "text": [
      "Episode 882 | Steps: 2 | Reward: 29.04 | Avg Reward: 110.96\n",
      "Episode 883 | Steps: 2 | Reward: 26.84 | Avg Reward: 110.04\n",
      "Episode 884 | Steps: 11 | Reward: 94.46 | Avg Reward: 108.62\n",
      "Episode 885 | Steps: 6 | Reward: 53.76 | Avg Reward: 107.91\n",
      "Episode 886 | Steps: 29 | Reward: 204.80 | Avg Reward: 107.17\n",
      "Episode 887 | Steps: 23 | Reward: 172.51 | Avg Reward: 108.37\n",
      "Episode 888 | Steps: 22 | Reward: 144.39 | Avg Reward: 107.79\n",
      "Episode 889 | Steps: 12 | Reward: 121.72 | Avg Reward: 108.16\n",
      "Episode 890 | Steps: 16 | Reward: 180.48 | Avg Reward: 109.04\n",
      "Episode 891 | Steps: 31 | Reward: 219.60 | Avg Reward: 110.81\n",
      "Episode 892 | Steps: 14 | Reward: 133.42 | Avg Reward: 110.98\n",
      "Episode 893 | Steps: 20 | Reward: 142.00 | Avg Reward: 110.74\n"
     ]
    },
    {
     "name": "stderr",
     "output_type": "stream",
     "text": [
      " 90%|████████▉ | 899/1000 [00:16<00:01, 52.73it/s]"
     ]
    },
    {
     "name": "stdout",
     "output_type": "stream",
     "text": [
      "Episode 894 | Steps: 12 | Reward: 89.43 | Avg Reward: 110.92\n",
      "Episode 895 | Steps: 19 | Reward: 209.72 | Avg Reward: 112.20\n",
      "Episode 896 | Steps: 35 | Reward: 245.07 | Avg Reward: 113.47\n",
      "Episode 897 | Steps: 4 | Reward: 58.96 | Avg Reward: 112.04\n",
      "Episode 898 | Steps: 15 | Reward: 99.85 | Avg Reward: 112.78\n",
      "Episode 899 | Steps: 4 | Reward: 45.94 | Avg Reward: 112.70\n",
      "Episode 900 | Steps: 18 | Reward: 155.18 | Avg Reward: 110.43\n",
      "Weights exported to cart_pole_weights_900.bin in C-compatible format\n",
      "Episode 901 | Steps: 16 | Reward: 119.01 | Avg Reward: 109.95\n",
      "Episode 902 | Steps: 10 | Reward: 110.06 | Avg Reward: 110.77\n",
      "Episode 903 | Steps: 6 | Reward: 51.96 | Avg Reward: 110.40\n",
      "Episode 904 | Steps: 6 | Reward: 82.49 | Avg Reward: 109.83\n"
     ]
    },
    {
     "name": "stderr",
     "output_type": "stream",
     "text": [
      " 91%|█████████ | 912/1000 [00:16<00:01, 56.65it/s]"
     ]
    },
    {
     "name": "stdout",
     "output_type": "stream",
     "text": [
      "Episode 905 | Steps: 15 | Reward: 157.81 | Avg Reward: 110.77\n",
      "Episode 906 | Steps: 10 | Reward: 80.96 | Avg Reward: 111.29\n",
      "Episode 907 | Steps: 4 | Reward: 46.06 | Avg Reward: 110.97\n",
      "Episode 908 | Steps: 2 | Reward: 29.86 | Avg Reward: 109.46\n",
      "Episode 909 | Steps: 4 | Reward: 41.61 | Avg Reward: 109.23\n",
      "Episode 910 | Steps: 4 | Reward: 46.64 | Avg Reward: 108.71\n",
      "Episode 911 | Steps: 42 | Reward: 316.40 | Avg Reward: 110.61\n",
      "Episode 912 | Steps: 4 | Reward: 45.30 | Avg Reward: 110.51\n",
      "Episode 913 | Steps: 8 | Reward: 61.49 | Avg Reward: 110.02\n",
      "Episode 914 | Steps: 23 | Reward: 209.53 | Avg Reward: 110.34\n",
      "Episode 915 | Steps: 4 | Reward: 41.85 | Avg Reward: 108.78\n",
      "Episode 916 | Steps: 4 | Reward: 40.94 | Avg Reward: 108.76\n",
      "Episode 917 | Steps: 18 | Reward: 158.87 | Avg Reward: 109.74\n"
     ]
    },
    {
     "name": "stderr",
     "output_type": "stream",
     "text": [
      " 92%|█████████▎| 925/1000 [00:16<00:01, 57.50it/s]"
     ]
    },
    {
     "name": "stdout",
     "output_type": "stream",
     "text": [
      "Episode 918 | Steps: 4 | Reward: 40.01 | Avg Reward: 109.25\n",
      "Episode 919 | Steps: 4 | Reward: 43.92 | Avg Reward: 107.09\n",
      "Episode 920 | Steps: 14 | Reward: 137.56 | Avg Reward: 106.90\n",
      "Episode 921 | Steps: 10 | Reward: 100.66 | Avg Reward: 107.24\n",
      "Episode 922 | Steps: 10 | Reward: 76.57 | Avg Reward: 107.33\n",
      "Episode 923 | Steps: 35 | Reward: 242.13 | Avg Reward: 107.87\n",
      "Episode 924 | Steps: 37 | Reward: 324.52 | Avg Reward: 110.84\n",
      "Episode 925 | Steps: 18 | Reward: 128.27 | Avg Reward: 110.84\n",
      "Episode 926 | Steps: 10 | Reward: 100.28 | Avg Reward: 108.99\n",
      "Episode 927 | Steps: 35 | Reward: 261.82 | Avg Reward: 110.39\n",
      "Episode 928 | Steps: 37 | Reward: 217.73 | Avg Reward: 112.31\n"
     ]
    },
    {
     "name": "stderr",
     "output_type": "stream",
     "text": [
      " 94%|█████████▍| 938/1000 [00:16<00:01, 57.30it/s]"
     ]
    },
    {
     "name": "stdout",
     "output_type": "stream",
     "text": [
      "Episode 929 | Steps: 8 | Reward: 65.78 | Avg Reward: 112.51\n",
      "Episode 930 | Steps: 2 | Reward: 27.91 | Avg Reward: 111.41\n",
      "Episode 931 | Steps: 8 | Reward: 64.82 | Avg Reward: 111.44\n",
      "Episode 932 | Steps: 27 | Reward: 172.52 | Avg Reward: 110.18\n",
      "Episode 933 | Steps: 4 | Reward: 45.08 | Avg Reward: 110.04\n",
      "Episode 934 | Steps: 2 | Reward: 28.79 | Avg Reward: 108.42\n",
      "Episode 935 | Steps: 12 | Reward: 84.87 | Avg Reward: 107.73\n",
      "Episode 936 | Steps: 2 | Reward: 28.19 | Avg Reward: 107.73\n",
      "Episode 937 | Steps: 20 | Reward: 164.44 | Avg Reward: 109.08\n",
      "Episode 938 | Steps: 4 | Reward: 45.92 | Avg Reward: 107.44\n",
      "Episode 939 | Steps: 6 | Reward: 54.27 | Avg Reward: 107.39\n",
      "Episode 940 | Steps: 25 | Reward: 177.94 | Avg Reward: 108.73\n",
      "Episode 941 | Steps: 12 | Reward: 101.93 | Avg Reward: 109.47\n"
     ]
    },
    {
     "name": "stderr",
     "output_type": "stream",
     "text": [
      " 95%|█████████▌| 950/1000 [00:17<00:00, 56.54it/s]"
     ]
    },
    {
     "name": "stdout",
     "output_type": "stream",
     "text": [
      "Episode 942 | Steps: 23 | Reward: 154.48 | Avg Reward: 109.96\n",
      "Episode 943 | Steps: 12 | Reward: 122.73 | Avg Reward: 110.74\n",
      "Episode 944 | Steps: 8 | Reward: 100.70 | Avg Reward: 110.87\n",
      "Episode 945 | Steps: 31 | Reward: 226.84 | Avg Reward: 112.85\n",
      "Episode 946 | Steps: 20 | Reward: 144.71 | Avg Reward: 113.18\n",
      "Episode 947 | Steps: 4 | Reward: 44.76 | Avg Reward: 112.26\n",
      "Episode 948 | Steps: 2 | Reward: 29.51 | Avg Reward: 112.17\n",
      "Episode 949 | Steps: 31 | Reward: 248.25 | Avg Reward: 113.84\n",
      "Episode 950 | Steps: 2 | Reward: 28.88 | Avg Reward: 112.97\n",
      "Weights exported to cart_pole_weights_950.bin in C-compatible format\n",
      "Episode 951 | Steps: 19 | Reward: 201.46 | Avg Reward: 114.39\n",
      "Episode 952 | Steps: 2 | Reward: 28.98 | Avg Reward: 114.42\n",
      "Episode 953 | Steps: 2 | Reward: 29.23 | Avg Reward: 113.39\n"
     ]
    },
    {
     "name": "stderr",
     "output_type": "stream",
     "text": [
      " 96%|█████████▌| 962/1000 [00:17<00:00, 56.55it/s]"
     ]
    },
    {
     "name": "stdout",
     "output_type": "stream",
     "text": [
      "Episode 954 | Steps: 10 | Reward: 74.06 | Avg Reward: 113.23\n",
      "Episode 955 | Steps: 21 | Reward: 201.10 | Avg Reward: 114.00\n",
      "Episode 956 | Steps: 8 | Reward: 65.99 | Avg Reward: 114.20\n",
      "Episode 957 | Steps: 25 | Reward: 163.66 | Avg Reward: 114.80\n",
      "Episode 958 | Steps: 38 | Reward: 325.34 | Avg Reward: 116.40\n",
      "Episode 959 | Steps: 4 | Reward: 45.48 | Avg Reward: 116.31\n",
      "Episode 960 | Steps: 14 | Reward: 101.29 | Avg Reward: 116.19\n",
      "Episode 961 | Steps: 2 | Reward: 29.84 | Avg Reward: 116.20\n",
      "Episode 962 | Steps: 6 | Reward: 53.97 | Avg Reward: 116.11\n",
      "Episode 963 | Steps: 32 | Reward: 249.27 | Avg Reward: 116.33\n",
      "Episode 964 | Steps: 4 | Reward: 44.48 | Avg Reward: 114.56\n"
     ]
    },
    {
     "name": "stderr",
     "output_type": "stream",
     "text": [
      " 97%|█████████▋| 974/1000 [00:17<00:00, 55.47it/s]"
     ]
    },
    {
     "name": "stdout",
     "output_type": "stream",
     "text": [
      "Episode 965 | Steps: 20 | Reward: 134.23 | Avg Reward: 115.60\n",
      "Episode 966 | Steps: 25 | Reward: 158.66 | Avg Reward: 116.17\n",
      "Episode 967 | Steps: 15 | Reward: 101.42 | Avg Reward: 116.23\n",
      "Episode 968 | Steps: 16 | Reward: 184.89 | Avg Reward: 117.82\n",
      "Episode 969 | Steps: 8 | Reward: 115.11 | Avg Reward: 118.19\n",
      "Episode 970 | Steps: 14 | Reward: 95.59 | Avg Reward: 117.77\n",
      "Episode 971 | Steps: 4 | Reward: 57.17 | Avg Reward: 117.12\n",
      "Episode 972 | Steps: 20 | Reward: 137.96 | Avg Reward: 117.21\n",
      "Episode 973 | Steps: 4 | Reward: 44.77 | Avg Reward: 117.00\n",
      "Episode 974 | Steps: 25 | Reward: 154.85 | Avg Reward: 117.83\n",
      "Episode 975 | Steps: 30 | Reward: 264.78 | Avg Reward: 118.12\n"
     ]
    },
    {
     "name": "stderr",
     "output_type": "stream",
     "text": [
      " 99%|█████████▊| 987/1000 [00:17<00:00, 57.27it/s]"
     ]
    },
    {
     "name": "stdout",
     "output_type": "stream",
     "text": [
      "Episode 976 | Steps: 6 | Reward: 54.09 | Avg Reward: 117.73\n",
      "Episode 977 | Steps: 11 | Reward: 107.62 | Avg Reward: 117.50\n",
      "Episode 978 | Steps: 25 | Reward: 201.61 | Avg Reward: 118.88\n",
      "Episode 979 | Steps: 18 | Reward: 176.10 | Avg Reward: 118.22\n",
      "Episode 980 | Steps: 6 | Reward: 54.81 | Avg Reward: 116.26\n",
      "Episode 981 | Steps: 8 | Reward: 66.13 | Avg Reward: 116.29\n",
      "Episode 982 | Steps: 13 | Reward: 88.38 | Avg Reward: 116.88\n",
      "Episode 983 | Steps: 14 | Reward: 149.68 | Avg Reward: 118.11\n",
      "Episode 984 | Steps: 13 | Reward: 118.89 | Avg Reward: 118.35\n",
      "Episode 985 | Steps: 6 | Reward: 57.72 | Avg Reward: 118.39\n",
      "Episode 986 | Steps: 6 | Reward: 56.39 | Avg Reward: 116.91\n",
      "Episode 987 | Steps: 13 | Reward: 119.43 | Avg Reward: 116.38\n"
     ]
    },
    {
     "name": "stderr",
     "output_type": "stream",
     "text": [
      " 99%|█████████▉| 993/1000 [00:17<00:00, 56.12it/s]"
     ]
    },
    {
     "name": "stdout",
     "output_type": "stream",
     "text": [
      "Episode 988 | Steps: 15 | Reward: 104.83 | Avg Reward: 115.98\n",
      "Episode 989 | Steps: 8 | Reward: 59.35 | Avg Reward: 115.36\n",
      "Episode 990 | Steps: 39 | Reward: 368.84 | Avg Reward: 117.24\n",
      "Episode 991 | Steps: 6 | Reward: 62.71 | Avg Reward: 115.67\n",
      "Episode 992 | Steps: 14 | Reward: 101.63 | Avg Reward: 115.36\n",
      "Episode 993 | Steps: 36 | Reward: 244.48 | Avg Reward: 116.38\n",
      "Episode 994 | Steps: 23 | Reward: 145.81 | Avg Reward: 116.94\n",
      "Episode 995 | Steps: 6 | Reward: 87.25 | Avg Reward: 115.72\n",
      "Episode 996 | Steps: 6 | Reward: 86.76 | Avg Reward: 114.14\n",
      "Episode 997 | Steps: 20 | Reward: 137.15 | Avg Reward: 114.92\n",
      "Episode 998 | Steps: 15 | Reward: 157.52 | Avg Reward: 115.50\n",
      "Episode 999 | Steps: 12 | Reward: 87.63 | Avg Reward: 115.91\n"
     ]
    },
    {
     "name": "stderr",
     "output_type": "stream",
     "text": [
      "100%|██████████| 1000/1000 [00:18<00:00, 55.42it/s]\n"
     ]
    },
    {
     "name": "stdout",
     "output_type": "stream",
     "text": [
      "Episode 1000 | Steps: 2 | Reward: 28.41 | Avg Reward: 114.64\n",
      "Weights exported to cart_pole_weights_1000.bin in C-compatible format\n",
      "Weights exported to cart_pole_weights.bin in C-compatible format\n",
      "Expected file size: 36624 bytes\n",
      "Actual file size: 36624 bytes\n",
      "✅ File size matches expected size from C struct\n"
     ]
    },
    {
     "data": {
      "image/png": "[encoded data removed]",
      "text/plain": [
       "<Figure size 1200x500 with 2 Axes>"
      ]
     },
     "metadata": {},
     "output_type": "display_data"
    }
   ],
   "source": [
    "import numpy as np\n",
    "import torch\n",
    "import torch.nn as nn\n",
    "import torch.nn.functional as F\n",
    "import torch.optim as optim\n",
    "from torch.distributions import Categorical\n",
    "import gym\n",
    "import struct\n",
    "import os\n",
    "from collections import deque\n",
    "import matplotlib.pyplot as plt\n",
    "from tqdm import tqdm\n",
    "\n",
    "# Match the exact constants from your C implementation\n",
    "STATE_DIM = 4\n",
    "ACTION_DIM = 2\n",
    "HIDDEN_DIM = 64\n",
    "MAX_EPISODES = 1000\n",
    "MAX_STEPS_PER_EPISODE = 400\n",
    "PPO_EPOCHS = 12\n",
    "GAMMA = 0.98\n",
    "LAMBDA = 0.95\n",
    "CLIP_EPSILON = 0.1\n",
    "LEARNING_RATE = 0.005\n",
    "EXPLORE_RATE = 0.25\n",
    "\n",
    "# Cart-Pole parameters - match your C implementation\n",
    "GRAVITY = 9.8\n",
    "CART_MASS = 1.0\n",
    "POLE_MASS = 0.2\n",
    "POLE_HALF_LENGTH = 0.75\n",
    "MAX_ANGLE_RAD = 0.75\n",
    "MAX_POSITION = 5.0\n",
    "MAX_ANGULAR_VELOCITY = 8.0\n",
    "TIME_STEP = 0.04\n",
    "\n",
    "# NN Architecture to exactly match your C implementation\n",
    "class ActorCritic(nn.Module):\n",
    "    def __init__(self):\n",
    "        super(ActorCritic, self).__init__()\n",
    "        \n",
    "        # Policy Network (Actor)\n",
    "        self.actor_layer1 = nn.Linear(STATE_DIM, HIDDEN_DIM)\n",
    "        self.actor_hidden = nn.Linear(HIDDEN_DIM, HIDDEN_DIM)\n",
    "        self.actor_layer2 = nn.Linear(HIDDEN_DIM, ACTION_DIM)\n",
    "        \n",
    "        # Value Network (Critic)\n",
    "        self.critic_layer1 = nn.Linear(STATE_DIM, HIDDEN_DIM)\n",
    "        self.critic_hidden = nn.Linear(HIDDEN_DIM, HIDDEN_DIM)\n",
    "        self.critic_layer2 = nn.Linear(HIDDEN_DIM, 1)\n",
    "        \n",
    "        # Initialize weights - match the Kaiming initialization in your C code\n",
    "        self._init_weights()\n",
    "        \n",
    "    def _init_weights(self):\n",
    "        # Kaiming initialization for better convergence\n",
    "        nn.init.uniform_(self.actor_layer1.weight, -0.08, 0.08)\n",
    "        nn.init.uniform_(self.actor_hidden.weight, -0.08, 0.08)\n",
    "        nn.init.uniform_(self.actor_layer2.weight, -0.08, 0.08)\n",
    "        \n",
    "        nn.init.uniform_(self.critic_layer1.weight, -0.08, 0.08)\n",
    "        nn.init.uniform_(self.critic_hidden.weight, -0.08, 0.08)\n",
    "        nn.init.uniform_(self.critic_layer2.weight, -0.08, 0.08)\n",
    "        \n",
    "        # Small positive/negative bias initialization for output layer\n",
    "        nn.init.constant_(self.actor_layer2.bias[0], -0.1)  # Slight bias toward left\n",
    "        nn.init.constant_(self.actor_layer2.bias[1], 0.1)   # Slight bias toward right\n",
    "        \n",
    "        # Small positive bias for critic (optimistic initialization)\n",
    "        nn.init.constant_(self.critic_layer2.bias, 0.1)\n",
    "        \n",
    "    def forward(self, state):\n",
    "        # Actor (Policy Network)\n",
    "        actor_hidden1 = F.leaky_relu(self.actor_layer1(state), 0.01)\n",
    "        actor_hidden2 = F.leaky_relu(self.actor_hidden(actor_hidden1), 0.01)\n",
    "        action_probs = F.softmax(self.actor_layer2(actor_hidden2), dim=-1)\n",
    "        \n",
    "        # Critic (Value Network)\n",
    "        critic_hidden1 = F.leaky_relu(self.critic_layer1(state), 0.01)\n",
    "        critic_hidden2 = F.leaky_relu(self.critic_hidden(critic_hidden1), 0.01)\n",
    "        value = self.critic_layer2(critic_hidden2)\n",
    "        \n",
    "        return action_probs, value\n",
    "    \n",
    "    def act(self, state, explore_rate=0.0):\n",
    "        state = torch.FloatTensor(state).unsqueeze(0)\n",
    "        action_probs, _ = self.forward(state)\n",
    "        \n",
    "        # Add exploration\n",
    "        if np.random.random() < explore_rate:\n",
    "            action = np.random.choice([0, 1])\n",
    "            return action\n",
    "        \n",
    "        # Sample from action distribution\n",
    "        dist = Categorical(action_probs)\n",
    "        action = dist.sample().item()\n",
    "        \n",
    "        return action\n",
    "    \n",
    "    def evaluate(self, state, action):\n",
    "        action_probs, value = self.forward(state)\n",
    "        dist = Categorical(action_probs)\n",
    "        action_log_probs = dist.log_prob(action)\n",
    "        entropy = dist.entropy()\n",
    "        \n",
    "        return action_log_probs, value, entropy\n",
    "\n",
    "# Custom CartPole environment to match your physics exactly\n",
    "class CustomCartPole(gym.Env):\n",
    "    def __init__(self):\n",
    "        super(CustomCartPole, self).__init__()\n",
    "        self.gravity = GRAVITY\n",
    "        self.cart_mass = CART_MASS\n",
    "        self.pole_mass = POLE_MASS\n",
    "        self.pole_half_length = POLE_HALF_LENGTH\n",
    "        self.dt = TIME_STEP\n",
    "        \n",
    "        self.max_angle_rad = MAX_ANGLE_RAD\n",
    "        self.max_position = MAX_POSITION\n",
    "        self.max_angular_velocity = MAX_ANGULAR_VELOCITY\n",
    "        \n",
    "        self.force_mag = 150  # Matches your FORCE_MAG/MOTOR_MAX_SPEED\n",
    "        \n",
    "        # Define action and observation space\n",
    "        self.action_space = gym.spaces.Discrete(2)\n",
    "        low = np.array([-10.0, -10.0, -1.0, -10.0])  # Match state normalization\n",
    "        high = np.array([10.0, 10.0, 1.0, 10.0])\n",
    "        self.observation_space = gym.spaces.Box(low, high, dtype=np.float32)\n",
    "        \n",
    "        self.state = None\n",
    "        self.steps = 0\n",
    "        \n",
    "    def step(self, action):\n",
    "        assert self.action_space.contains(action)\n",
    "        \n",
    "        x, x_dot, theta, theta_dot = self.state\n",
    "        \n",
    "        # Convert action to force (motor command)\n",
    "        force = self.force_mag if action == 1 else -self.force_mag\n",
    "        \n",
    "        # Physics calculations (same as your C implementation)\n",
    "        total_mass = self.cart_mass + self.pole_mass\n",
    "        pole_mass_length = self.pole_mass * self.pole_half_length\n",
    "        \n",
    "        # Calculate acceleration\n",
    "        temp = (force + pole_mass_length * theta_dot**2 * np.sin(theta)) / total_mass\n",
    "        theta_acc = (self.gravity * np.sin(theta) - np.cos(theta) * temp) / (\n",
    "            self.pole_half_length * (4.0/3.0 - self.pole_mass * np.cos(theta)**2 / total_mass))\n",
    "        x_acc = temp - pole_mass_length * theta_acc * np.cos(theta) / total_mass\n",
    "        \n",
    "        # Integrate using Euler method\n",
    "        x += self.dt * x_dot\n",
    "        x_dot += self.dt * x_acc\n",
    "        theta += self.dt * theta_dot\n",
    "        theta_dot += self.dt * theta_acc\n",
    "        \n",
    "        # Update state\n",
    "        self.state = (x, x_dot, theta, theta_dot)\n",
    "        self.steps += 1\n",
    "        \n",
    "        # Calculate reward (similar to your calculate_reward function)\n",
    "        angle_reward = (1.0 - abs(theta) / self.max_angle_rad)**3\n",
    "        position_reward = (1.0 - abs(x) / 10.0)**2\n",
    "        reward = 15.0 * angle_reward + 5.0 * position_reward + 0.1\n",
    "        \n",
    "        # Check for terminal conditions\n",
    "        done = bool(\n",
    "            abs(x) > self.max_position or\n",
    "            abs(theta) > self.max_angle_rad or\n",
    "            abs(theta_dot) > self.max_angular_velocity or\n",
    "            self.steps >= MAX_STEPS_PER_EPISODE\n",
    "        )\n",
    "        \n",
    "        return np.array(self.state), reward, done, {}\n",
    "    \n",
    "    def reset(self):\n",
    "        # Start in slightly random positions for better generalization\n",
    "        self.state = np.array([\n",
    "            np.random.uniform(-0.5, 0.5),  # x position\n",
    "            0.0,                           # x velocity\n",
    "            np.random.uniform(-0.05, 0.05), # theta\n",
    "            0.0                            # theta velocity\n",
    "        ])\n",
    "        self.steps = 0\n",
    "        return np.array(self.state)\n",
    "    \n",
    "    def normalize_state(self, state):\n",
    "        \"\"\"Match the normalize_state function in your C code\"\"\"\n",
    "        norm_state = np.zeros(STATE_DIM, dtype=np.float32)\n",
    "        \n",
    "        # Position: [-10, 10] -> [-1, 1]\n",
    "        norm_state[0] = state[0] / 10.0\n",
    "        \n",
    "        # Velocity: clip and normalize to [-1, 1]\n",
    "        norm_state[1] = np.clip(state[1], -10.0, 10.0) / 10.0\n",
    "        \n",
    "        # Angle: [-MAX_ANGLE_RAD, MAX_ANGLE_RAD] -> [-1, 1]\n",
    "        norm_state[2] = state[2] / MAX_ANGLE_RAD\n",
    "        \n",
    "        # Angular velocity: clip and normalize to [-1, 1]\n",
    "        norm_state[3] = np.clip(state[3], -MAX_ANGULAR_VELOCITY, MAX_ANGULAR_VELOCITY) / MAX_ANGULAR_VELOCITY\n",
    "        \n",
    "        # Clamp all values\n",
    "        norm_state = np.clip(norm_state, -1.0, 1.0)\n",
    "        \n",
    "        return norm_state\n",
    "\n",
    "# Memory buffer to match your C implementation\n",
    "class Memory:\n",
    "    def __init__(self):\n",
    "        self.states = []\n",
    "        self.actions = []\n",
    "        self.rewards = []\n",
    "        self.next_states = []\n",
    "        self.log_probs = []\n",
    "        self.values = []\n",
    "        self.dones = []\n",
    "        \n",
    "    def add(self, state, action, reward, next_state, log_prob, value, done):\n",
    "        self.states.append(state)\n",
    "        self.actions.append(action)\n",
    "        self.rewards.append(reward)\n",
    "        self.next_states.append(next_state)\n",
    "        self.log_probs.append(log_prob)\n",
    "        self.values.append(value)\n",
    "        self.dones.append(done)\n",
    "        \n",
    "    def clear(self):\n",
    "        self.states.clear()\n",
    "        self.actions.clear()\n",
    "        self.rewards.clear()\n",
    "        self.next_states.clear()\n",
    "        self.log_probs.clear()\n",
    "        self.values.clear()\n",
    "        self.dones.clear()\n",
    "        \n",
    "    def __len__(self):\n",
    "        return len(self.states)\n",
    "    \n",
    "    def compute_advantages(self):\n",
    "        returns = []\n",
    "        advantages = []\n",
    "        gae = 0\n",
    "        \n",
    "        # Calculate returns and advantages backward in time\n",
    "        for i in reversed(range(len(self.rewards))):\n",
    "            if i == len(self.rewards) - 1 or self.dones[i]:\n",
    "                next_value = 0\n",
    "            else:\n",
    "                next_state = torch.FloatTensor(self.next_states[i]).unsqueeze(0)\n",
    "                _, next_value = model(next_state)\n",
    "                next_value = next_value.item()\n",
    "                \n",
    "            # Compute returns (discounted reward)\n",
    "            returns.insert(0, self.rewards[i] + GAMMA * next_value * (1 - self.dones[i]))\n",
    "            \n",
    "            # Compute GAE advantages\n",
    "            delta = self.rewards[i] + GAMMA * next_value * (1 - self.dones[i]) - self.values[i]\n",
    "            gae = delta + GAMMA * LAMBDA * (1 - self.dones[i]) * gae\n",
    "            advantages.insert(0, gae)\n",
    "            \n",
    "        # Convert lists to tensors\n",
    "        self.returns = torch.FloatTensor(returns)\n",
    "        self.advantages = torch.FloatTensor(advantages)\n",
    "        \n",
    "        # Normalize advantages\n",
    "        if len(advantages) > 1:\n",
    "            self.advantages = (self.advantages - self.advantages.mean()) / (self.advantages.std() + 1e-8)\n",
    "\n",
    "# Function to export weights in a format compatible with your C implementation\n",
    "def export_weights(model, filename='cart_pole_weights.bin'):\n",
    "    \"\"\"Export PyTorch model weights in a binary format compatible with the C implementation\"\"\"\n",
    "    # Get weights from the PyTorch model\n",
    "    weights = {\n",
    "        # Actor (Policy) Network\n",
    "        'weights1': model.actor_layer1.weight.data.cpu().numpy().T,  # Transpose to match C layout\n",
    "        'bias1': model.actor_layer1.bias.data.cpu().numpy(),\n",
    "        'weights_h2h': model.actor_hidden.weight.data.cpu().numpy().T,\n",
    "        'bias_h2': model.actor_hidden.bias.data.cpu().numpy(),\n",
    "        'weights2': model.actor_layer2.weight.data.cpu().numpy().T,\n",
    "        'bias2': model.actor_layer2.bias.data.cpu().numpy(),\n",
    "        \n",
    "        # Critic (Value) Network\n",
    "        'value_weights1': model.critic_layer1.weight.data.cpu().numpy().T,\n",
    "        'value_bias1': model.critic_layer1.bias.data.cpu().numpy(),\n",
    "        'value_weights_h2h': model.critic_hidden.weight.data.cpu().numpy().T,\n",
    "        'value_bias_h2': model.critic_hidden.bias.data.cpu().numpy(),\n",
    "        'value_weights2': model.critic_layer2.weight.data.cpu().numpy().T,\n",
    "        'value_bias2': model.critic_layer2.bias.data.cpu().numpy(),\n",
    "    }\n",
    "    \n",
    "    # Open binary file for writing\n",
    "    with open(filename, 'wb') as f:\n",
    "        # First, write all actor network weights in the same memory layout as C struct\n",
    "        for i in range(STATE_DIM):\n",
    "            for j in range(HIDDEN_DIM):\n",
    "                f.write(struct.pack('f', weights['weights1'][i][j]))\n",
    "        \n",
    "        for i in range(HIDDEN_DIM):\n",
    "            f.write(struct.pack('f', weights['bias1'][i]))\n",
    "        \n",
    "        for i in range(HIDDEN_DIM):\n",
    "            for j in range(HIDDEN_DIM):\n",
    "                f.write(struct.pack('f', weights['weights_h2h'][i][j]))\n",
    "        \n",
    "        for i in range(HIDDEN_DIM):\n",
    "            f.write(struct.pack('f', weights['bias_h2'][i]))\n",
    "        \n",
    "        for i in range(HIDDEN_DIM):\n",
    "            for j in range(ACTION_DIM):\n",
    "                f.write(struct.pack('f', weights['weights2'][i][j]))\n",
    "        \n",
    "        for i in range(ACTION_DIM):\n",
    "            f.write(struct.pack('f', weights['bias2'][i]))\n",
    "        \n",
    "        # Then write all critic network weights\n",
    "        for i in range(STATE_DIM):\n",
    "            for j in range(HIDDEN_DIM):\n",
    "                f.write(struct.pack('f', weights['value_weights1'][i][j]))\n",
    "        \n",
    "        for i in range(HIDDEN_DIM):\n",
    "            f.write(struct.pack('f', weights['value_bias1'][i]))\n",
    "        \n",
    "        for i in range(HIDDEN_DIM):\n",
    "            for j in range(HIDDEN_DIM):\n",
    "                f.write(struct.pack('f', weights['value_weights_h2h'][i][j]))\n",
    "        \n",
    "        for i in range(HIDDEN_DIM):\n",
    "            f.write(struct.pack('f', weights['value_bias_h2'][i]))\n",
    "        \n",
    "        for i in range(HIDDEN_DIM):\n",
    "            f.write(struct.pack('f', weights['value_weights2'][i][0]))\n",
    "        \n",
    "        f.write(struct.pack('f', weights['value_bias2'][0]))\n",
    "        \n",
    "        # Add reward field (to match your struct)\n",
    "        f.write(struct.pack('f', 0.0))  # Initialize reward to 0\n",
    "    \n",
    "    print(f\"Weights exported to {filename} in C-compatible format\")\n",
    "\n",
    "# Verify if binary file size matches expected size from C struct\n",
    "def verify_export(filename='cart_pole_weights.bin'):\n",
    "    \"\"\"Verify the exported binary file has the expected size\"\"\"\n",
    "    # Calculate expected size\n",
    "    expected_size = (\n",
    "        # Policy Network\n",
    "        (STATE_DIM * HIDDEN_DIM) * 4 +  # weights1\n",
    "        HIDDEN_DIM * 4 +                # bias1\n",
    "        (HIDDEN_DIM * HIDDEN_DIM) * 4 + # weights_h2h\n",
    "        HIDDEN_DIM * 4 +                # bias_h2\n",
    "        (HIDDEN_DIM * ACTION_DIM) * 4 + # weights2\n",
    "        ACTION_DIM * 4 +                # bias2\n",
    "        \n",
    "        # Value Network \n",
    "        (STATE_DIM * HIDDEN_DIM) * 4 +  # value_weights1\n",
    "        HIDDEN_DIM * 4 +                # value_bias1\n",
    "        (HIDDEN_DIM * HIDDEN_DIM) * 4 + # value_weights_h2h\n",
    "        HIDDEN_DIM * 4 +                # value_bias_h2\n",
    "        (HIDDEN_DIM * 1) * 4 +          # value_weights2\n",
    "        1 * 4 +                         # value_bias2\n",
    "        \n",
    "        # Extra field for reward\n",
    "        4                              # reward (float)\n",
    "    )\n",
    "    \n",
    "    actual_size = os.path.getsize(filename)\n",
    "    print(f\"Expected file size: {expected_size} bytes\")\n",
    "    print(f\"Actual file size: {actual_size} bytes\")\n",
    "    \n",
    "    if expected_size == actual_size:\n",
    "        print(\"✅ File size matches expected size from C struct\")\n",
    "    else:\n",
    "        print(\"❌ File size does not match expected size from C struct\")\n",
    "\n",
    "# Create model and environment\n",
    "model = ActorCritic()\n",
    "env = CustomCartPole()\n",
    "optimizer = optim.Adam(model.parameters(), lr=LEARNING_RATE)\n",
    "memory = Memory()\n",
    "\n",
    "# For tracking progress\n",
    "reward_history = []\n",
    "avg_rewards = []\n",
    "steps_history = []\n",
    "\n",
    "def train(num_episodes=1000):\n",
    "    \"\"\"Train the PPO agent\"\"\"\n",
    "    best_reward = -float('inf')\n",
    "    \n",
    "    for episode in tqdm(range(num_episodes)):\n",
    "        state = env.reset()\n",
    "        normalized_state = env.normalize_state(state)\n",
    "        episode_reward = 0\n",
    "        episode_steps = 0\n",
    "        done = False\n",
    "        \n",
    "        # Calculate explore rate with decay\n",
    "        explore_rate = max(EXPLORE_RATE, 0.6 * (1.0 - episode / 200.0))\n",
    "        \n",
    "        # Collect experience\n",
    "        while not done and episode_steps < MAX_STEPS_PER_EPISODE:\n",
    "            # Select action\n",
    "            with torch.no_grad():\n",
    "                state_tensor = torch.FloatTensor(normalized_state).unsqueeze(0)\n",
    "                action_probs, value = model(state_tensor)\n",
    "                value = value.squeeze().item()\n",
    "                \n",
    "                if np.random.random() < explore_rate:\n",
    "                    action = np.random.choice([0, 1])\n",
    "                else:\n",
    "                    dist = Categorical(action_probs)\n",
    "                    action = dist.sample().item()\n",
    "                    \n",
    "                log_prob = torch.log(action_probs.squeeze()[action])\n",
    "            \n",
    "            # Take action\n",
    "            next_state, reward, done, _ = env.step(action)\n",
    "            normalized_next_state = env.normalize_state(next_state)\n",
    "            episode_reward += reward\n",
    "            episode_steps += 1\n",
    "            \n",
    "            # Store experience\n",
    "            memory.add(\n",
    "                normalized_state, \n",
    "                action, \n",
    "                reward, \n",
    "                normalized_next_state, \n",
    "                log_prob.item(), \n",
    "                value, \n",
    "                done\n",
    "            )\n",
    "            \n",
    "            # Move to next state\n",
    "            state = next_state\n",
    "            normalized_state = normalized_next_state\n",
    "        \n",
    "        # Track progress\n",
    "        reward_history.append(episode_reward)\n",
    "        steps_history.append(episode_steps)\n",
    "        avg_reward = np.mean(reward_history[-100:]) if len(reward_history) >= 100 else np.mean(reward_history)\n",
    "        avg_rewards.append(avg_reward)\n",
    "        \n",
    "        print(f\"Episode {episode+1} | Steps: {episode_steps} | Reward: {episode_reward:.2f} | Avg Reward: {avg_reward:.2f}\")\n",
    "        \n",
    "        # Save best model\n",
    "        if episode_reward > best_reward:\n",
    "            best_reward = episode_reward\n",
    "            export_weights(model, 'cart_pole_weights_best.bin')\n",
    "            print(f\"New best reward: {best_reward:.2f}\")\n",
    "        \n",
    "        # Update policy if we have enough experience\n",
    "        if len(memory) > 0:\n",
    "            memory.compute_advantages()\n",
    "            \n",
    "            # Convert memory to tensors for training\n",
    "            states = torch.FloatTensor(memory.states)\n",
    "            actions = torch.LongTensor(memory.actions)\n",
    "            old_log_probs = torch.FloatTensor(memory.log_probs)\n",
    "            \n",
    "            # PPO update\n",
    "            for _ in range(PPO_EPOCHS):\n",
    "                # Get action log probs, values, and entropy from current policy\n",
    "                action_log_probs, values, entropy = model.evaluate(states, actions)\n",
    "                values = values.squeeze()\n",
    "                \n",
    "                # Calculate ratios and clipped loss\n",
    "                ratios = torch.exp(action_log_probs - old_log_probs)\n",
    "                surr1 = ratios * memory.advantages\n",
    "                surr2 = torch.clamp(ratios, 1 - CLIP_EPSILON, 1 + CLIP_EPSILON) * memory.advantages\n",
    "                policy_loss = -torch.min(surr1, surr2).mean()\n",
    "                \n",
    "                # Value loss\n",
    "                value_loss = 0.5 * F.mse_loss(values, memory.returns)\n",
    "                \n",
    "                # Total loss (with entropy bonus for exploration)\n",
    "                loss = policy_loss + 0.5 * value_loss - 0.01 * entropy.mean()\n",
    "                \n",
    "                # Update policy\n",
    "                optimizer.zero_grad()\n",
    "                loss.backward()\n",
    "                optimizer.step()\n",
    "            \n",
    "            # Clear memory after update\n",
    "            memory.clear()\n",
    "        \n",
    "        # Export weights periodically\n",
    "        if (episode+1) % 50 == 0:\n",
    "            export_weights(model, f'cart_pole_weights_{episode+1}.bin')\n",
    "        \n",
    "    # Export final weights\n",
    "    export_weights(model, 'cart_pole_weights.bin')\n",
    "    verify_export('cart_pole_weights.bin')\n",
    "    \n",
    "    # Plot training progress\n",
    "    plt.figure(figsize=(12, 5))\n",
    "    plt.subplot(1, 2, 1)\n",
    "    plt.plot(reward_history)\n",
    "    plt.plot(avg_rewards, 'r')\n",
    "    plt.title('Episode Reward')\n",
    "    plt.xlabel('Episode')\n",
    "    plt.ylabel('Reward')\n",
    "    \n",
    "    plt.subplot(1, 2, 2)\n",
    "    plt.plot(steps_history)\n",
    "    plt.title('Episode Steps')\n",
    "    plt.xlabel('Episode')\n",
    "    plt.ylabel('Steps')\n",
    "    \n",
    "    plt.tight_layout()\n",
    "    plt.savefig('training_progress.png')\n",
    "    plt.show()\n",
    "\n",
    "if __name__ == \"__main__\":\n",
    "    train(num_episodes=1000)"
   ]
  },
  {
   "cell_type": "code",
   "execution_count": 2,
   "id": "e630a589-ab57-4d2f-bc19-ed878cec8096",
   "metadata": {},
   "outputs": [
    {
     "name": "stdout",
     "output_type": "stream",
     "text": [
      "Collecting gym\n",
      "  Downloading gym-0.26.2.tar.gz (721 kB)\n",
      "\u001b[2K     \u001b[90m━━━━━━━━━━━━━━━━━━━━━━━━━━━━━━━━━━━━━━━\u001b[0m \u001b[32m721.7/721.7 kB\u001b[0m \u001b[31m5.3 MB/s\u001b[0m eta \u001b[36m0:00:00\u001b[0ma \u001b[36m0:00:01\u001b[0m\n",
      "\u001b[?25h  Installing build dependencies ... \u001b[?25ldone\n",
      "\u001b[?25h  Getting requirements to build wheel ... \u001b[?25ldone\n",
      "\u001b[?25h  Preparing metadata (pyproject.toml) ... \u001b[?25ldone\n",
      "\u001b[?25hRequirement already satisfied: numpy>=1.18.0 in /opt/anaconda3/envs/deep-learning/lib/python3.11/site-packages (from gym) (1.26.4)\n",
      "Collecting cloudpickle>=1.2.0 (from gym)\n",
      "  Downloading cloudpickle-3.1.1-py3-none-any.whl.metadata (7.1 kB)\n",
      "Collecting gym_notices>=0.0.4 (from gym)\n",
      "  Downloading gym_notices-0.0.8-py3-none-any.whl.metadata (1.0 kB)\n",
      "Downloading cloudpickle-3.1.1-py3-none-any.whl (20 kB)\n",
      "Downloading gym_notices-0.0.8-py3-none-any.whl (3.0 kB)\n",
      "Building wheels for collected packages: gym\n",
      "  Building wheel for gym (pyproject.toml) ... \u001b[?25ldone\n",
      "\u001b[?25h  Created wheel for gym: filename=gym-0.26.2-py3-none-any.whl size=827730 sha256=35e78727e0daac7e323e8a4d29a8fdad1b3827c75d612af237e76b11943f6b8a\n",
      "  Stored in directory: /Users/kenny/Library/Caches/pip/wheels/1c/77/9e/9af5470201a0b0543937933ee99ba884cd237d2faefe8f4d37\n",
      "Successfully built gym\n",
      "Installing collected packages: gym_notices, cloudpickle, gym\n",
      "Successfully installed cloudpickle-3.1.1 gym-0.26.2 gym_notices-0.0.8\n"
     ]
    }
   ],
   "source": [
    "!pip install gym"
   ]
  }
 ],
 "metadata": {
  "kernelspec": {
   "display_name": "Python 3 (ipykernel)",
   "language": "python",
   "name": "python3"
  },
  "language_info": {
   "codemirror_mode": {
    "name": "ipython",
    "version": 3
   },
   "file_extension": ".py",
   "mimetype": "text/x-python",
   "name": "python",
   "nbconvert_exporter": "python",
   "pygments_lexer": "ipython3",
   "version": "3.11.8"
  }
 },
 "nbformat": 4,
 "nbformat_minor": 5
}
